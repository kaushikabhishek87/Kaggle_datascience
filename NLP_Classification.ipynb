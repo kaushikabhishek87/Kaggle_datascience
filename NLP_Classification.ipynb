{
  "nbformat": 4,
  "nbformat_minor": 0,
  "metadata": {
    "colab": {
      "name": "NLP_Classification.ipynb",
      "provenance": [],
      "authorship_tag": "ABX9TyM/0v6pvVEq3BRzRqSWILBx"
    },
    "kernelspec": {
      "name": "python3",
      "display_name": "Python 3"
    },
    "language_info": {
      "name": "python"
    }
  },
  "cells": [
    {
      "cell_type": "code",
      "source": [
        "import numpy as np\n",
        "import pandas as pd \n",
        "from sklearn.feature_extraction.text import TfidfVectorizer\n",
        "from sklearn.linear_model import LogisticRegression\n",
        "from sklearn.model_selection import cross_val_score\n",
        "from scipy.sparse import hstack"
      ],
      "metadata": {
        "id": "MUCQ2n3MZpzx"
      },
      "execution_count": 6,
      "outputs": []
    },
    {
      "cell_type": "code",
      "source": [
        ""
      ],
      "metadata": {
        "id": "9XmaZOCear20"
      },
      "execution_count": null,
      "outputs": []
    }
  ]
}