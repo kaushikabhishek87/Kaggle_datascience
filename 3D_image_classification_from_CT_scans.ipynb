{
  "nbformat": 4,
  "nbformat_minor": 0,
  "metadata": {
    "colab": {
      "name": "3D_image_classification_from_CT_scans.ipynb",
      "provenance": [],
      "authorship_tag": "ABX9TyNU0f6HHK1zrw1Cr18P7nMZ"
    },
    "kernelspec": {
      "name": "python3",
      "display_name": "Python 3"
    },
    "language_info": {
      "name": "python"
    }
  },
  "cells": [
    {
      "cell_type": "code",
      "execution_count": 1,
      "metadata": {
        "id": "NFq6ehCUFxkz"
      },
      "outputs": [],
      "source": [
        "import os\n",
        "import zipfile\n",
        "import numpy as np\n",
        "import tensorflow as tf\n",
        "\n",
        "from tensorflow import keras\n",
        "from tensorflow.keras import layers"
      ]
    },
    {
      "cell_type": "code",
      "source": [
        "# Download url of normal CT scans.\n",
        "url = \"https://github.com/hasibzunair/3D-image-classification-tutorial/releases/download/v0.2/CT-0.zip\"\n",
        "filename = os.path.join(os.getcwd(), \"CT-0.zip\")\n",
        "keras.utils.get_file(filename, url)\n",
        "\n",
        "# Download url of abnormal CT scans.\n",
        "url = \"https://github.com/hasibzunair/3D-image-classification-tutorial/releases/download/v0.2/CT-23.zip\"\n",
        "filename = os.path.join(os.getcwd(), \"CT-23.zip\")\n",
        "keras.utils.get_file(filename, url)\n",
        "\n",
        "# Make a directory to store the data.\n",
        "os.makedirs(\"MosMedData\")\n",
        "\n",
        "# Unzip data in the newly created directory.\n",
        "with zipfile.ZipFile(\"CT-0.zip\", \"r\") as z_fp:\n",
        "    z_fp.extractall(\"./MosMedData/\")\n",
        "\n",
        "with zipfile.ZipFile(\"CT-23.zip\", \"r\") as z_fp:\n",
        "    z_fp.extractall(\"./MosMedData/\")"
      ],
      "metadata": {
        "colab": {
          "base_uri": "https://localhost:8080/"
        },
        "id": "dCVFMYgxF6Xb",
        "outputId": "e4e5a7ab-129d-451e-8edc-fb9ce3f66f2a"
      },
      "execution_count": 2,
      "outputs": [
        {
          "output_type": "stream",
          "name": "stdout",
          "text": [
            "Downloading data from https://github.com/hasibzunair/3D-image-classification-tutorial/releases/download/v0.2/CT-0.zip\n",
            "1065476096/1065471431 [==============================] - 160s 0us/step\n",
            "1065484288/1065471431 [==============================] - 160s 0us/step\n",
            "Downloading data from https://github.com/hasibzunair/3D-image-classification-tutorial/releases/download/v0.2/CT-23.zip\n",
            "1045168128/1045162547 [==============================] - 113s 0us/step\n",
            "1045176320/1045162547 [==============================] - 113s 0us/step\n"
          ]
        }
      ]
    },
    {
      "cell_type": "code",
      "source": [
        "!pip install nibabel"
      ],
      "metadata": {
        "id": "ym4AbrnYF-l-"
      },
      "execution_count": 2,
      "outputs": []
    },
    {
      "cell_type": "code",
      "source": [
        "import nibabel as nib\n",
        "\n",
        "from scipy import ndimage"
      ],
      "metadata": {
        "id": "0aRKbZR0LhvU"
      },
      "execution_count": 3,
      "outputs": []
    },
    {
      "cell_type": "code",
      "source": [
        "def read_nifti_file(filepath):\n",
        "  \"\"\"Read and load volume\"\"\"\n",
        "  scan = nib.load(filepath)\n",
        "  # get Raw data\n",
        "  scan = scan.get_fdata()\n",
        "  return scan\n",
        "\n",
        "def normalize(volume):\n",
        "  min = -1000\n",
        "  max = 400\n",
        "  volume[volume < min] = min\n",
        "  volume[volume > max] = max\n",
        "  volume = (volume - min)/ (max - min)\n",
        "  volume = volume.astype(\"float32\")\n",
        "  return volume\n",
        "\n",
        "def resize_volume(img):\n",
        "  desired_depth = 64\n",
        "  desired_width = 128\n",
        "  desired_height = 128\n",
        "\n",
        "  current_depth = img.shape[-1]\n",
        "  current_width = img.shape[0]\n",
        "  current_height = img.shape[1]\n",
        "\n",
        "  depth = current_depth / desired_depth\n",
        "  width = current_width/desired_width\n",
        "  height = current_height/ desired_height\n",
        "  depth_factor = 1/depth\n",
        "  width_factor = 1 / width\n",
        "  height_factor = 1 / height \n",
        "\n",
        "  img = ndimage.rotate(img, 90, reshape=False)\n",
        "\n",
        "  img = ndimage.zoom(img, (width_factor, height_factor, depth_factor), order =1)\n",
        "\n",
        "  return img\n",
        "\n",
        "def process_scan(path):\n",
        "  volume = read_nifti_file(path)\n",
        "\n",
        "  volume = normalize(volume)\n",
        "\n",
        "  volume = resize_volume(volume)\n",
        "\n",
        "  return volume"
      ],
      "metadata": {
        "id": "lyjtlUvIMmKO"
      },
      "execution_count": 4,
      "outputs": []
    },
    {
      "cell_type": "code",
      "source": [
        "normal_scans_path = [\n",
        "      os.path.join(os.getcwd(), \"MosMedData/CT-0\", x)\n",
        "      for x in os.listdir(\"MosMedData/CT-0\")\n",
        "]"
      ],
      "metadata": {
        "id": "jQV3XhDVOrzB"
      },
      "execution_count": 5,
      "outputs": []
    },
    {
      "cell_type": "code",
      "source": [
        "abnormal_scan_path = [\n",
        "      os.path.join(os.getcwd(), \"MosMedData/CT-23\", x)\n",
        "      for x in os.listdir(\"MosMedData/CT-23\")\n",
        "]"
      ],
      "metadata": {
        "id": "lc7hg2EQPWMh"
      },
      "execution_count": 6,
      "outputs": []
    },
    {
      "cell_type": "code",
      "source": [
        "len(normal_scans_path), len(abnormal_scan_path)"
      ],
      "metadata": {
        "colab": {
          "base_uri": "https://localhost:8080/"
        },
        "id": "Ad1tmGjTPo96",
        "outputId": "71d4cdd8-a114-47fe-cf10-ddf44f58f48e"
      },
      "execution_count": 9,
      "outputs": [
        {
          "output_type": "execute_result",
          "data": {
            "text/plain": [
              "(100, 100)"
            ]
          },
          "metadata": {},
          "execution_count": 9
        }
      ]
    },
    {
      "cell_type": "code",
      "source": [
        "print()"
      ],
      "metadata": {
        "id": "7UMuu8U0Ps4H"
      },
      "execution_count": null,
      "outputs": []
    }
  ]
}