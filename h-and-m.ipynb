{
 "cells": [
  {
   "cell_type": "code",
   "execution_count": 1,
   "id": "b1f13adf",
   "metadata": {
    "_cell_guid": "b1076dfc-b9ad-4769-8c92-a6c4dae69d19",
    "_uuid": "8f2839f25d086af736a60e9eeb907d3b93b6e0e5",
    "execution": {
     "iopub.execute_input": "2022-03-21T17:12:41.349337Z",
     "iopub.status.busy": "2022-03-21T17:12:41.347420Z",
     "iopub.status.idle": "2022-03-21T17:12:42.524785Z",
     "shell.execute_reply": "2022-03-21T17:12:42.523545Z",
     "shell.execute_reply.started": "2022-03-21T17:04:02.331902Z"
    },
    "papermill": {
     "duration": 1.249548,
     "end_time": "2022-03-21T17:12:42.525041",
     "exception": false,
     "start_time": "2022-03-21T17:12:41.275493",
     "status": "completed"
    },
    "tags": []
   },
   "outputs": [],
   "source": [
    "# This Python 3 environment comes with many helpful analytics libraries installed\n",
    "# It is defined by the kaggle/python Docker image: https://github.com/kaggle/docker-python\n",
    "# For example, here's several helpful packages to load\n",
    "\n",
    "import numpy as np # linear algebra\n",
    "import pandas as pd # data processing, CSV file I/O (e.g. pd.read_csv)\n",
    "import seaborn as sns"
   ]
  },
  {
   "cell_type": "code",
   "execution_count": 2,
   "id": "60be3a0c",
   "metadata": {
    "execution": {
     "iopub.execute_input": "2022-03-21T17:12:42.662262Z",
     "iopub.status.busy": "2022-03-21T17:12:42.659106Z",
     "iopub.status.idle": "2022-03-21T17:14:21.366462Z",
     "shell.execute_reply": "2022-03-21T17:14:21.365185Z",
     "shell.execute_reply.started": "2022-03-21T17:04:03.443742Z"
    },
    "papermill": {
     "duration": 98.774017,
     "end_time": "2022-03-21T17:14:21.366658",
     "exception": false,
     "start_time": "2022-03-21T17:12:42.592641",
     "status": "completed"
    },
    "tags": []
   },
   "outputs": [],
   "source": [
    "# Reading input\n",
    "\n",
    "articles = pd.read_csv('../input/h-and-m-personalized-fashion-recommendations/articles.csv')\n",
    "# customers = pd.read_csv('../input/h-and-m-personalized-fashion-recommendations/customers.csv')\n",
    "transactions_train = pd.read_csv('../input/h-and-m-personalized-fashion-recommendations/transactions_train.csv')\n",
    "sample_submission = pd.read_csv('../input/h-and-m-personalized-fashion-recommendations/sample_submission.csv')\\\n",
    "[['customer_id']]"
   ]
  },
  {
   "cell_type": "code",
   "execution_count": 3,
   "id": "5cbff2c0",
   "metadata": {
    "execution": {
     "iopub.execute_input": "2022-03-21T17:14:23.533439Z",
     "iopub.status.busy": "2022-03-21T17:14:23.532075Z",
     "iopub.status.idle": "2022-03-21T17:14:30.174278Z",
     "shell.execute_reply": "2022-03-21T17:14:30.174808Z",
     "shell.execute_reply.started": "2022-03-21T17:06:07.610008Z"
    },
    "papermill": {
     "duration": 8.743037,
     "end_time": "2022-03-21T17:14:30.175056",
     "exception": false,
     "start_time": "2022-03-21T17:14:21.432019",
     "status": "completed"
    },
    "tags": []
   },
   "outputs": [
    {
     "data": {
      "text/plain": [
       "(1362281, 1371980)"
      ]
     },
     "execution_count": 3,
     "metadata": {},
     "output_type": "execute_result"
    }
   ],
   "source": [
    "transactions_train['customer_id'].nunique(), sample_submission.shape[0]"
   ]
  },
  {
   "cell_type": "code",
   "execution_count": 4,
   "id": "e7c9baf7",
   "metadata": {
    "execution": {
     "iopub.execute_input": "2022-03-21T17:14:36.429502Z",
     "iopub.status.busy": "2022-03-21T17:14:36.428699Z",
     "iopub.status.idle": "2022-03-21T17:14:38.879300Z",
     "shell.execute_reply": "2022-03-21T17:14:38.878460Z",
     "shell.execute_reply.started": "2022-03-21T17:06:16.275494Z"
    },
    "papermill": {
     "duration": 8.640505,
     "end_time": "2022-03-21T17:14:38.879465",
     "exception": false,
     "start_time": "2022-03-21T17:14:30.238960",
     "status": "completed"
    },
    "tags": []
   },
   "outputs": [
    {
     "data": {
      "text/plain": [
       "(1362281, 1)"
      ]
     },
     "execution_count": 4,
     "metadata": {},
     "output_type": "execute_result"
    }
   ],
   "source": [
    "pd.merge(transactions_train['customer_id'].drop_duplicates(),\n",
    "         sample_submission['customer_id'],\n",
    "         left_on = 'customer_id',\n",
    "         right_on = 'customer_id'\n",
    "        ).shape"
   ]
  },
  {
   "cell_type": "code",
   "execution_count": 5,
   "id": "5250e8db",
   "metadata": {
    "execution": {
     "iopub.execute_input": "2022-03-21T17:14:39.038031Z",
     "iopub.status.busy": "2022-03-21T17:14:39.037143Z",
     "iopub.status.idle": "2022-03-21T17:14:39.086720Z",
     "shell.execute_reply": "2022-03-21T17:14:39.085981Z",
     "shell.execute_reply.started": "2022-03-21T17:06:25.640039Z"
    },
    "papermill": {
     "duration": 0.13621,
     "end_time": "2022-03-21T17:14:39.086962",
     "exception": false,
     "start_time": "2022-03-21T17:14:38.950752",
     "status": "completed"
    },
    "tags": []
   },
   "outputs": [
    {
     "name": "stdout",
     "output_type": "stream",
     "text": [
      "105542 45875 131 19\n"
     ]
    }
   ],
   "source": [
    "print(articles['article_id'].nunique(),\n",
    "articles['prod_name'].nunique(),\n",
    "articles['product_type_name'].nunique(),\n",
    "articles['product_group_name'].nunique() )"
   ]
  },
  {
   "cell_type": "code",
   "execution_count": 6,
   "id": "20cd17fb",
   "metadata": {
    "execution": {
     "iopub.execute_input": "2022-03-21T17:14:39.230641Z",
     "iopub.status.busy": "2022-03-21T17:14:39.220683Z",
     "iopub.status.idle": "2022-03-21T17:14:39.254869Z",
     "shell.execute_reply": "2022-03-21T17:14:39.255449Z",
     "shell.execute_reply.started": "2022-03-21T17:06:25.705337Z"
    },
    "papermill": {
     "duration": 0.102449,
     "end_time": "2022-03-21T17:14:39.255660",
     "exception": false,
     "start_time": "2022-03-21T17:14:39.153211",
     "status": "completed"
    },
    "tags": []
   },
   "outputs": [
    {
     "name": "stdout",
     "output_type": "stream",
     "text": [
      "30 50 250\n"
     ]
    }
   ],
   "source": [
    "print(articles['graphical_appearance_name'].nunique(),\n",
    "articles['colour_group_name'].nunique(),\n",
    "articles['department_name'].nunique() )"
   ]
  },
  {
   "cell_type": "code",
   "execution_count": 7,
   "id": "a84f0800",
   "metadata": {
    "execution": {
     "iopub.execute_input": "2022-03-21T17:14:39.391213Z",
     "iopub.status.busy": "2022-03-21T17:14:39.390405Z",
     "iopub.status.idle": "2022-03-21T17:14:39.461559Z",
     "shell.execute_reply": "2022-03-21T17:14:39.462337Z",
     "shell.execute_reply.started": "2022-03-21T17:06:25.746830Z"
    },
    "papermill": {
     "duration": 0.142215,
     "end_time": "2022-03-21T17:14:39.462593",
     "exception": false,
     "start_time": "2022-03-21T17:14:39.320378",
     "status": "completed"
    },
    "tags": []
   },
   "outputs": [
    {
     "name": "stdout",
     "output_type": "stream",
     "text": [
      "10 5 56 21 43404\n"
     ]
    }
   ],
   "source": [
    "print(articles['index_name'].nunique(),\n",
    "articles['index_group_name'].nunique(),\n",
    "articles['section_name'].nunique(),\n",
    "articles['garment_group_name'].nunique(),\n",
    "articles['detail_desc'].nunique()\n",
    "     )"
   ]
  },
  {
   "cell_type": "code",
   "execution_count": 8,
   "id": "b3c9c4bf",
   "metadata": {
    "execution": {
     "iopub.execute_input": "2022-03-21T17:14:39.605467Z",
     "iopub.status.busy": "2022-03-21T17:14:39.604327Z",
     "iopub.status.idle": "2022-03-21T17:14:39.630034Z",
     "shell.execute_reply": "2022-03-21T17:14:39.629404Z",
     "shell.execute_reply.started": "2022-03-21T17:06:25.845505Z"
    },
    "papermill": {
     "duration": 0.101987,
     "end_time": "2022-03-21T17:14:39.630231",
     "exception": false,
     "start_time": "2022-03-21T17:14:39.528244",
     "status": "completed"
    },
    "tags": []
   },
   "outputs": [
    {
     "data": {
      "text/html": [
       "<div>\n",
       "<style scoped>\n",
       "    .dataframe tbody tr th:only-of-type {\n",
       "        vertical-align: middle;\n",
       "    }\n",
       "\n",
       "    .dataframe tbody tr th {\n",
       "        vertical-align: top;\n",
       "    }\n",
       "\n",
       "    .dataframe thead th {\n",
       "        text-align: right;\n",
       "    }\n",
       "</style>\n",
       "<table border=\"1\" class=\"dataframe\">\n",
       "  <thead>\n",
       "    <tr style=\"text-align: right;\">\n",
       "      <th></th>\n",
       "      <th>article_id</th>\n",
       "      <th>product_code</th>\n",
       "      <th>prod_name</th>\n",
       "      <th>product_type_no</th>\n",
       "      <th>product_type_name</th>\n",
       "      <th>product_group_name</th>\n",
       "      <th>graphical_appearance_no</th>\n",
       "      <th>graphical_appearance_name</th>\n",
       "      <th>colour_group_code</th>\n",
       "      <th>colour_group_name</th>\n",
       "      <th>...</th>\n",
       "      <th>department_name</th>\n",
       "      <th>index_code</th>\n",
       "      <th>index_name</th>\n",
       "      <th>index_group_no</th>\n",
       "      <th>index_group_name</th>\n",
       "      <th>section_no</th>\n",
       "      <th>section_name</th>\n",
       "      <th>garment_group_no</th>\n",
       "      <th>garment_group_name</th>\n",
       "      <th>detail_desc</th>\n",
       "    </tr>\n",
       "  </thead>\n",
       "  <tbody>\n",
       "    <tr>\n",
       "      <th>0</th>\n",
       "      <td>108775015</td>\n",
       "      <td>108775</td>\n",
       "      <td>Strap top</td>\n",
       "      <td>253</td>\n",
       "      <td>Vest top</td>\n",
       "      <td>Garment Upper body</td>\n",
       "      <td>1010016</td>\n",
       "      <td>Solid</td>\n",
       "      <td>9</td>\n",
       "      <td>Black</td>\n",
       "      <td>...</td>\n",
       "      <td>Jersey Basic</td>\n",
       "      <td>A</td>\n",
       "      <td>Ladieswear</td>\n",
       "      <td>1</td>\n",
       "      <td>Ladieswear</td>\n",
       "      <td>16</td>\n",
       "      <td>Womens Everyday Basics</td>\n",
       "      <td>1002</td>\n",
       "      <td>Jersey Basic</td>\n",
       "      <td>Jersey top with narrow shoulder straps.</td>\n",
       "    </tr>\n",
       "    <tr>\n",
       "      <th>1</th>\n",
       "      <td>108775044</td>\n",
       "      <td>108775</td>\n",
       "      <td>Strap top</td>\n",
       "      <td>253</td>\n",
       "      <td>Vest top</td>\n",
       "      <td>Garment Upper body</td>\n",
       "      <td>1010016</td>\n",
       "      <td>Solid</td>\n",
       "      <td>10</td>\n",
       "      <td>White</td>\n",
       "      <td>...</td>\n",
       "      <td>Jersey Basic</td>\n",
       "      <td>A</td>\n",
       "      <td>Ladieswear</td>\n",
       "      <td>1</td>\n",
       "      <td>Ladieswear</td>\n",
       "      <td>16</td>\n",
       "      <td>Womens Everyday Basics</td>\n",
       "      <td>1002</td>\n",
       "      <td>Jersey Basic</td>\n",
       "      <td>Jersey top with narrow shoulder straps.</td>\n",
       "    </tr>\n",
       "    <tr>\n",
       "      <th>2</th>\n",
       "      <td>108775051</td>\n",
       "      <td>108775</td>\n",
       "      <td>Strap top (1)</td>\n",
       "      <td>253</td>\n",
       "      <td>Vest top</td>\n",
       "      <td>Garment Upper body</td>\n",
       "      <td>1010017</td>\n",
       "      <td>Stripe</td>\n",
       "      <td>11</td>\n",
       "      <td>Off White</td>\n",
       "      <td>...</td>\n",
       "      <td>Jersey Basic</td>\n",
       "      <td>A</td>\n",
       "      <td>Ladieswear</td>\n",
       "      <td>1</td>\n",
       "      <td>Ladieswear</td>\n",
       "      <td>16</td>\n",
       "      <td>Womens Everyday Basics</td>\n",
       "      <td>1002</td>\n",
       "      <td>Jersey Basic</td>\n",
       "      <td>Jersey top with narrow shoulder straps.</td>\n",
       "    </tr>\n",
       "    <tr>\n",
       "      <th>3</th>\n",
       "      <td>110065001</td>\n",
       "      <td>110065</td>\n",
       "      <td>OP T-shirt (Idro)</td>\n",
       "      <td>306</td>\n",
       "      <td>Bra</td>\n",
       "      <td>Underwear</td>\n",
       "      <td>1010016</td>\n",
       "      <td>Solid</td>\n",
       "      <td>9</td>\n",
       "      <td>Black</td>\n",
       "      <td>...</td>\n",
       "      <td>Clean Lingerie</td>\n",
       "      <td>B</td>\n",
       "      <td>Lingeries/Tights</td>\n",
       "      <td>1</td>\n",
       "      <td>Ladieswear</td>\n",
       "      <td>61</td>\n",
       "      <td>Womens Lingerie</td>\n",
       "      <td>1017</td>\n",
       "      <td>Under-, Nightwear</td>\n",
       "      <td>Microfibre T-shirt bra with underwired, moulde...</td>\n",
       "    </tr>\n",
       "    <tr>\n",
       "      <th>4</th>\n",
       "      <td>110065002</td>\n",
       "      <td>110065</td>\n",
       "      <td>OP T-shirt (Idro)</td>\n",
       "      <td>306</td>\n",
       "      <td>Bra</td>\n",
       "      <td>Underwear</td>\n",
       "      <td>1010016</td>\n",
       "      <td>Solid</td>\n",
       "      <td>10</td>\n",
       "      <td>White</td>\n",
       "      <td>...</td>\n",
       "      <td>Clean Lingerie</td>\n",
       "      <td>B</td>\n",
       "      <td>Lingeries/Tights</td>\n",
       "      <td>1</td>\n",
       "      <td>Ladieswear</td>\n",
       "      <td>61</td>\n",
       "      <td>Womens Lingerie</td>\n",
       "      <td>1017</td>\n",
       "      <td>Under-, Nightwear</td>\n",
       "      <td>Microfibre T-shirt bra with underwired, moulde...</td>\n",
       "    </tr>\n",
       "  </tbody>\n",
       "</table>\n",
       "<p>5 rows × 25 columns</p>\n",
       "</div>"
      ],
      "text/plain": [
       "   article_id  product_code          prod_name  product_type_no  \\\n",
       "0   108775015        108775          Strap top              253   \n",
       "1   108775044        108775          Strap top              253   \n",
       "2   108775051        108775      Strap top (1)              253   \n",
       "3   110065001        110065  OP T-shirt (Idro)              306   \n",
       "4   110065002        110065  OP T-shirt (Idro)              306   \n",
       "\n",
       "  product_type_name  product_group_name  graphical_appearance_no  \\\n",
       "0          Vest top  Garment Upper body                  1010016   \n",
       "1          Vest top  Garment Upper body                  1010016   \n",
       "2          Vest top  Garment Upper body                  1010017   \n",
       "3               Bra           Underwear                  1010016   \n",
       "4               Bra           Underwear                  1010016   \n",
       "\n",
       "  graphical_appearance_name  colour_group_code colour_group_name  ...  \\\n",
       "0                     Solid                  9             Black  ...   \n",
       "1                     Solid                 10             White  ...   \n",
       "2                    Stripe                 11         Off White  ...   \n",
       "3                     Solid                  9             Black  ...   \n",
       "4                     Solid                 10             White  ...   \n",
       "\n",
       "   department_name index_code        index_name index_group_no  \\\n",
       "0     Jersey Basic          A        Ladieswear              1   \n",
       "1     Jersey Basic          A        Ladieswear              1   \n",
       "2     Jersey Basic          A        Ladieswear              1   \n",
       "3   Clean Lingerie          B  Lingeries/Tights              1   \n",
       "4   Clean Lingerie          B  Lingeries/Tights              1   \n",
       "\n",
       "   index_group_name section_no            section_name garment_group_no  \\\n",
       "0        Ladieswear         16  Womens Everyday Basics             1002   \n",
       "1        Ladieswear         16  Womens Everyday Basics             1002   \n",
       "2        Ladieswear         16  Womens Everyday Basics             1002   \n",
       "3        Ladieswear         61         Womens Lingerie             1017   \n",
       "4        Ladieswear         61         Womens Lingerie             1017   \n",
       "\n",
       "   garment_group_name                                        detail_desc  \n",
       "0        Jersey Basic            Jersey top with narrow shoulder straps.  \n",
       "1        Jersey Basic            Jersey top with narrow shoulder straps.  \n",
       "2        Jersey Basic            Jersey top with narrow shoulder straps.  \n",
       "3   Under-, Nightwear  Microfibre T-shirt bra with underwired, moulde...  \n",
       "4   Under-, Nightwear  Microfibre T-shirt bra with underwired, moulde...  \n",
       "\n",
       "[5 rows x 25 columns]"
      ]
     },
     "execution_count": 8,
     "metadata": {},
     "output_type": "execute_result"
    }
   ],
   "source": [
    "articles.head()"
   ]
  },
  {
   "cell_type": "code",
   "execution_count": 9,
   "id": "5957d8b1",
   "metadata": {
    "execution": {
     "iopub.execute_input": "2022-03-21T17:14:39.771600Z",
     "iopub.status.busy": "2022-03-21T17:14:39.770792Z",
     "iopub.status.idle": "2022-03-21T17:14:39.790697Z",
     "shell.execute_reply": "2022-03-21T17:14:39.791405Z",
     "shell.execute_reply.started": "2022-03-21T17:06:25.883908Z"
    },
    "papermill": {
     "duration": 0.094925,
     "end_time": "2022-03-21T17:14:39.791634",
     "exception": false,
     "start_time": "2022-03-21T17:14:39.696709",
     "status": "completed"
    },
    "tags": []
   },
   "outputs": [
    {
     "data": {
      "text/html": [
       "<div>\n",
       "<style scoped>\n",
       "    .dataframe tbody tr th:only-of-type {\n",
       "        vertical-align: middle;\n",
       "    }\n",
       "\n",
       "    .dataframe tbody tr th {\n",
       "        vertical-align: top;\n",
       "    }\n",
       "\n",
       "    .dataframe thead th {\n",
       "        text-align: right;\n",
       "    }\n",
       "</style>\n",
       "<table border=\"1\" class=\"dataframe\">\n",
       "  <thead>\n",
       "    <tr style=\"text-align: right;\">\n",
       "      <th></th>\n",
       "      <th>product_type_name</th>\n",
       "    </tr>\n",
       "  </thead>\n",
       "  <tbody>\n",
       "    <tr>\n",
       "      <th>0</th>\n",
       "      <td>Vest top</td>\n",
       "    </tr>\n",
       "    <tr>\n",
       "      <th>3</th>\n",
       "      <td>Bra</td>\n",
       "    </tr>\n",
       "    <tr>\n",
       "      <th>6</th>\n",
       "      <td>Underwear Tights</td>\n",
       "    </tr>\n",
       "    <tr>\n",
       "      <th>7</th>\n",
       "      <td>Socks</td>\n",
       "    </tr>\n",
       "    <tr>\n",
       "      <th>8</th>\n",
       "      <td>Leggings/Tights</td>\n",
       "    </tr>\n",
       "    <tr>\n",
       "      <th>...</th>\n",
       "      <td>...</td>\n",
       "    </tr>\n",
       "    <tr>\n",
       "      <th>102766</th>\n",
       "      <td>Dog wear</td>\n",
       "    </tr>\n",
       "    <tr>\n",
       "      <th>103628</th>\n",
       "      <td>Eyeglasses</td>\n",
       "    </tr>\n",
       "    <tr>\n",
       "      <th>103910</th>\n",
       "      <td>Wireless earphone case</td>\n",
       "    </tr>\n",
       "    <tr>\n",
       "      <th>104253</th>\n",
       "      <td>Stain remover spray</td>\n",
       "    </tr>\n",
       "    <tr>\n",
       "      <th>104255</th>\n",
       "      <td>Clothing mist</td>\n",
       "    </tr>\n",
       "  </tbody>\n",
       "</table>\n",
       "<p>131 rows × 1 columns</p>\n",
       "</div>"
      ],
      "text/plain": [
       "             product_type_name\n",
       "0                     Vest top\n",
       "3                          Bra\n",
       "6             Underwear Tights\n",
       "7                        Socks\n",
       "8              Leggings/Tights\n",
       "...                        ...\n",
       "102766                Dog wear\n",
       "103628              Eyeglasses\n",
       "103910  Wireless earphone case\n",
       "104253     Stain remover spray\n",
       "104255           Clothing mist\n",
       "\n",
       "[131 rows x 1 columns]"
      ]
     },
     "execution_count": 9,
     "metadata": {},
     "output_type": "execute_result"
    }
   ],
   "source": [
    "articles[['product_type_name']].drop_duplicates()"
   ]
  },
  {
   "cell_type": "code",
   "execution_count": 10,
   "id": "fba7198e",
   "metadata": {
    "execution": {
     "iopub.execute_input": "2022-03-21T17:14:41.773181Z",
     "iopub.status.busy": "2022-03-21T17:14:41.772048Z",
     "iopub.status.idle": "2022-03-21T17:14:51.565703Z",
     "shell.execute_reply": "2022-03-21T17:14:51.566333Z",
     "shell.execute_reply.started": "2022-03-21T17:06:25.912692Z"
    },
    "papermill": {
     "duration": 11.70611,
     "end_time": "2022-03-21T17:14:51.566549",
     "exception": false,
     "start_time": "2022-03-21T17:14:39.860439",
     "status": "completed"
    },
    "tags": []
   },
   "outputs": [],
   "source": [
    "transactions_train['t_dat_datetime']  = pd.to_datetime(transactions_train['t_dat'])\n",
    "\n",
    "transactions_train['t_month'] = transactions_train['t_dat_datetime'].dt.month\n",
    "\n",
    "transactions_train['t_year']  = transactions_train['t_dat_datetime'].dt.year"
   ]
  },
  {
   "cell_type": "code",
   "execution_count": 11,
   "id": "7b615371",
   "metadata": {
    "execution": {
     "iopub.execute_input": "2022-03-21T17:14:53.757686Z",
     "iopub.status.busy": "2022-03-21T17:14:52.263119Z",
     "iopub.status.idle": "2022-03-21T17:16:26.848424Z",
     "shell.execute_reply": "2022-03-21T17:16:26.847691Z",
     "shell.execute_reply.started": "2022-03-21T17:06:38.006177Z"
    },
    "papermill": {
     "duration": 95.215417,
     "end_time": "2022-03-21T17:16:26.848746",
     "exception": false,
     "start_time": "2022-03-21T17:14:51.633329",
     "status": "completed"
    },
    "tags": []
   },
   "outputs": [],
   "source": [
    "transactions_train['max_purc_date'] = transactions_train.groupby('customer_id')['t_dat_datetime'].transform('max')\n",
    "\n",
    "transactions_train['min_purc_date'] = transactions_train.groupby('customer_id')['t_dat_datetime'].transform('min')\n",
    "\n",
    "transactions_train['total_visits'] = transactions_train.groupby('customer_id')['t_dat'].transform('nunique')\n",
    "\n",
    "transactions_train['total_item_bought'] = transactions_train.groupby('customer_id')['article_id'].transform('nunique')\n",
    "\n",
    "transactions_train['max_year'] = transactions_train.groupby('customer_id')['t_year'].transform('max')"
   ]
  },
  {
   "cell_type": "code",
   "execution_count": 12,
   "id": "4db45031",
   "metadata": {
    "execution": {
     "iopub.execute_input": "2022-03-21T17:16:29.088426Z",
     "iopub.status.busy": "2022-03-21T17:16:27.542379Z",
     "iopub.status.idle": "2022-03-21T17:17:11.249588Z",
     "shell.execute_reply": "2022-03-21T17:17:11.248971Z",
     "shell.execute_reply.started": "2022-03-21T17:08:13.294250Z"
    },
    "papermill": {
     "duration": 44.33232,
     "end_time": "2022-03-21T17:17:11.249781",
     "exception": false,
     "start_time": "2022-03-21T17:16:26.917461",
     "status": "completed"
    },
    "tags": []
   },
   "outputs": [],
   "source": [
    "# transactions_train_filt = transactions_train[transactions_train['max_year'] == 2020]\n",
    "\n",
    "# transactions_train_filt['product_reach'] = transactions_train_filt.groupby('article_id')['customer_id'].transform('nunique')\n",
    "\n",
    "# transactions_train_filt = transactions_train_filt[transactions_train_filt['product_reach'] > 8]\n",
    "\n",
    "transactions_train['repeat_purchase'] = transactions_train.groupby(['customer_id','article_id'])['t_dat'].transform('nunique')\n",
    "\n",
    "transactions_train_filt = transactions_train[transactions_train['repeat_purchase'] > 1]\n",
    "\n",
    "# transactions_train_filt = transactions_train_filt[transactions_train_filt['total_visits'] >= 2]\n",
    "\n",
    "# transactions_train_filt = transactions_train_filt[transactions_train_filt['total_item_bought'] >= 12]"
   ]
  },
  {
   "cell_type": "code",
   "execution_count": 13,
   "id": "01f14a55",
   "metadata": {
    "execution": {
     "iopub.execute_input": "2022-03-21T17:17:11.414910Z",
     "iopub.status.busy": "2022-03-21T17:17:11.407922Z",
     "iopub.status.idle": "2022-03-21T17:17:13.167171Z",
     "shell.execute_reply": "2022-03-21T17:17:13.166513Z",
     "shell.execute_reply.started": "2022-03-21T17:08:58.064847Z"
    },
    "papermill": {
     "duration": 1.848004,
     "end_time": "2022-03-21T17:17:13.167347",
     "exception": false,
     "start_time": "2022-03-21T17:17:11.319343",
     "status": "completed"
    },
    "tags": []
   },
   "outputs": [],
   "source": [
    "article_cust = transactions_train_filt[['article_id','customer_id']].drop_duplicates()"
   ]
  },
  {
   "cell_type": "code",
   "execution_count": 14,
   "id": "531a7b1a",
   "metadata": {
    "execution": {
     "iopub.execute_input": "2022-03-21T17:17:13.308768Z",
     "iopub.status.busy": "2022-03-21T17:17:13.306559Z",
     "iopub.status.idle": "2022-03-21T17:17:15.498452Z",
     "shell.execute_reply": "2022-03-21T17:17:15.497766Z",
     "shell.execute_reply.started": "2022-03-21T17:08:59.776201Z"
    },
    "papermill": {
     "duration": 2.265583,
     "end_time": "2022-03-21T17:17:15.498662",
     "exception": false,
     "start_time": "2022-03-21T17:17:13.233079",
     "status": "completed"
    },
    "tags": []
   },
   "outputs": [],
   "source": [
    "article_cust_full = pd.merge(article_cust, article_cust.rename(columns={'article_id':'article_id_1',\n",
    "                                                   }),\n",
    "         left_on='customer_id',\n",
    "         right_on='customer_id'\n",
    "        )"
   ]
  },
  {
   "cell_type": "code",
   "execution_count": 15,
   "id": "51f3b886",
   "metadata": {
    "execution": {
     "iopub.execute_input": "2022-03-21T17:17:15.640810Z",
     "iopub.status.busy": "2022-03-21T17:17:15.639360Z",
     "iopub.status.idle": "2022-03-21T17:17:16.383562Z",
     "shell.execute_reply": "2022-03-21T17:17:16.384160Z",
     "shell.execute_reply.started": "2022-03-21T17:09:02.041077Z"
    },
    "papermill": {
     "duration": 0.818305,
     "end_time": "2022-03-21T17:17:16.384367",
     "exception": false,
     "start_time": "2022-03-21T17:17:15.566062",
     "status": "completed"
    },
    "tags": []
   },
   "outputs": [],
   "source": [
    "article_cust_full = article_cust_full[article_cust_full['article_id'] != article_cust_full['article_id_1']]"
   ]
  },
  {
   "cell_type": "code",
   "execution_count": 16,
   "id": "c6e58283",
   "metadata": {
    "execution": {
     "iopub.execute_input": "2022-03-21T17:17:16.526529Z",
     "iopub.status.busy": "2022-03-21T17:17:16.525401Z",
     "iopub.status.idle": "2022-03-21T17:17:26.148503Z",
     "shell.execute_reply": "2022-03-21T17:17:26.147737Z",
     "shell.execute_reply.started": "2022-03-21T17:09:02.699452Z"
    },
    "papermill": {
     "duration": 9.693068,
     "end_time": "2022-03-21T17:17:26.148687",
     "exception": false,
     "start_time": "2022-03-21T17:17:16.455619",
     "status": "completed"
    },
    "tags": []
   },
   "outputs": [],
   "source": [
    "common_cust = article_cust_full.groupby(['article_id', 'article_id_1']).\\\n",
    "agg(common_cust=('customer_id','nunique')).reset_index()"
   ]
  },
  {
   "cell_type": "code",
   "execution_count": 17,
   "id": "28643264",
   "metadata": {
    "execution": {
     "iopub.execute_input": "2022-03-21T17:17:26.292044Z",
     "iopub.status.busy": "2022-03-21T17:17:26.291205Z",
     "iopub.status.idle": "2022-03-21T17:17:26.296133Z",
     "shell.execute_reply": "2022-03-21T17:17:26.296682Z",
     "shell.execute_reply.started": "2022-03-21T17:09:11.901967Z"
    },
    "papermill": {
     "duration": 0.078513,
     "end_time": "2022-03-21T17:17:26.296910",
     "exception": false,
     "start_time": "2022-03-21T17:17:26.218397",
     "status": "completed"
    },
    "tags": []
   },
   "outputs": [
    {
     "data": {
      "text/plain": [
       "(8510616, 3)"
      ]
     },
     "execution_count": 17,
     "metadata": {},
     "output_type": "execute_result"
    }
   ],
   "source": [
    "common_cust.shape"
   ]
  },
  {
   "cell_type": "code",
   "execution_count": 18,
   "id": "bba6a686",
   "metadata": {
    "execution": {
     "iopub.execute_input": "2022-03-21T17:17:26.436459Z",
     "iopub.status.busy": "2022-03-21T17:17:26.435550Z",
     "iopub.status.idle": "2022-03-21T17:17:30.510987Z",
     "shell.execute_reply": "2022-03-21T17:17:30.510211Z",
     "shell.execute_reply.started": "2022-03-21T17:09:11.911132Z"
    },
    "papermill": {
     "duration": 4.146323,
     "end_time": "2022-03-21T17:17:30.511162",
     "exception": false,
     "start_time": "2022-03-21T17:17:26.364839",
     "status": "completed"
    },
    "tags": []
   },
   "outputs": [
    {
     "data": {
      "text/html": [
       "<div>\n",
       "<style scoped>\n",
       "    .dataframe tbody tr th:only-of-type {\n",
       "        vertical-align: middle;\n",
       "    }\n",
       "\n",
       "    .dataframe tbody tr th {\n",
       "        vertical-align: top;\n",
       "    }\n",
       "\n",
       "    .dataframe thead th {\n",
       "        text-align: right;\n",
       "    }\n",
       "</style>\n",
       "<table border=\"1\" class=\"dataframe\">\n",
       "  <thead>\n",
       "    <tr style=\"text-align: right;\">\n",
       "      <th></th>\n",
       "      <th>article_id</th>\n",
       "      <th>article_id_1</th>\n",
       "      <th>common_cust</th>\n",
       "      <th>article_id_cus</th>\n",
       "    </tr>\n",
       "  </thead>\n",
       "  <tbody>\n",
       "    <tr>\n",
       "      <th>0</th>\n",
       "      <td>108775015</td>\n",
       "      <td>108775044</td>\n",
       "      <td>50</td>\n",
       "      <td>338</td>\n",
       "    </tr>\n",
       "    <tr>\n",
       "      <th>1</th>\n",
       "      <td>108775015</td>\n",
       "      <td>111565001</td>\n",
       "      <td>2</td>\n",
       "      <td>338</td>\n",
       "    </tr>\n",
       "    <tr>\n",
       "      <th>2</th>\n",
       "      <td>108775015</td>\n",
       "      <td>111586001</td>\n",
       "      <td>3</td>\n",
       "      <td>338</td>\n",
       "    </tr>\n",
       "    <tr>\n",
       "      <th>3</th>\n",
       "      <td>108775015</td>\n",
       "      <td>111593001</td>\n",
       "      <td>5</td>\n",
       "      <td>338</td>\n",
       "    </tr>\n",
       "    <tr>\n",
       "      <th>4</th>\n",
       "      <td>108775015</td>\n",
       "      <td>120129001</td>\n",
       "      <td>2</td>\n",
       "      <td>338</td>\n",
       "    </tr>\n",
       "  </tbody>\n",
       "</table>\n",
       "</div>"
      ],
      "text/plain": [
       "   article_id  article_id_1  common_cust  article_id_cus\n",
       "0   108775015     108775044           50             338\n",
       "1   108775015     111565001            2             338\n",
       "2   108775015     111586001            3             338\n",
       "3   108775015     111593001            5             338\n",
       "4   108775015     120129001            2             338"
      ]
     },
     "execution_count": 18,
     "metadata": {},
     "output_type": "execute_result"
    }
   ],
   "source": [
    "common_cust = pd.merge(common_cust,\n",
    "                       article_cust_full.groupby('article_id').\\\n",
    "                       agg(article_id_cus=('customer_id','nunique')).\\\n",
    "                       reset_index(),\n",
    "                       left_on = 'article_id',\n",
    "                       right_on = 'article_id'\n",
    "                      )\n",
    "common_cust.head()"
   ]
  },
  {
   "cell_type": "code",
   "execution_count": 19,
   "id": "6b4dc2fd",
   "metadata": {
    "execution": {
     "iopub.execute_input": "2022-03-21T17:17:30.655629Z",
     "iopub.status.busy": "2022-03-21T17:17:30.654786Z",
     "iopub.status.idle": "2022-03-21T17:17:30.659820Z",
     "shell.execute_reply": "2022-03-21T17:17:30.660378Z",
     "shell.execute_reply.started": "2022-03-21T17:09:15.817084Z"
    },
    "papermill": {
     "duration": 0.081671,
     "end_time": "2022-03-21T17:17:30.660592",
     "exception": false,
     "start_time": "2022-03-21T17:17:30.578921",
     "status": "completed"
    },
    "tags": []
   },
   "outputs": [
    {
     "data": {
      "text/plain": [
       "(8510616, 4)"
      ]
     },
     "execution_count": 19,
     "metadata": {},
     "output_type": "execute_result"
    }
   ],
   "source": [
    "common_cust.shape"
   ]
  },
  {
   "cell_type": "code",
   "execution_count": 20,
   "id": "889d732f",
   "metadata": {
    "execution": {
     "iopub.execute_input": "2022-03-21T17:17:30.806821Z",
     "iopub.status.busy": "2022-03-21T17:17:30.806012Z",
     "iopub.status.idle": "2022-03-21T17:17:36.409062Z",
     "shell.execute_reply": "2022-03-21T17:17:36.409579Z",
     "shell.execute_reply.started": "2022-03-21T17:09:15.826437Z"
    },
    "papermill": {
     "duration": 5.676816,
     "end_time": "2022-03-21T17:17:36.409771",
     "exception": false,
     "start_time": "2022-03-21T17:17:30.732955",
     "status": "completed"
    },
    "tags": []
   },
   "outputs": [
    {
     "data": {
      "text/html": [
       "<div>\n",
       "<style scoped>\n",
       "    .dataframe tbody tr th:only-of-type {\n",
       "        vertical-align: middle;\n",
       "    }\n",
       "\n",
       "    .dataframe tbody tr th {\n",
       "        vertical-align: top;\n",
       "    }\n",
       "\n",
       "    .dataframe thead th {\n",
       "        text-align: right;\n",
       "    }\n",
       "</style>\n",
       "<table border=\"1\" class=\"dataframe\">\n",
       "  <thead>\n",
       "    <tr style=\"text-align: right;\">\n",
       "      <th></th>\n",
       "      <th>article_id</th>\n",
       "      <th>article_id_1</th>\n",
       "      <th>common_cust</th>\n",
       "      <th>article_id_cus_x</th>\n",
       "      <th>article_id_cus_y</th>\n",
       "    </tr>\n",
       "  </thead>\n",
       "  <tbody>\n",
       "    <tr>\n",
       "      <th>0</th>\n",
       "      <td>108775015</td>\n",
       "      <td>108775044</td>\n",
       "      <td>50</td>\n",
       "      <td>338</td>\n",
       "      <td>203</td>\n",
       "    </tr>\n",
       "    <tr>\n",
       "      <th>1</th>\n",
       "      <td>110065001</td>\n",
       "      <td>108775044</td>\n",
       "      <td>1</td>\n",
       "      <td>24</td>\n",
       "      <td>203</td>\n",
       "    </tr>\n",
       "    <tr>\n",
       "      <th>2</th>\n",
       "      <td>110065002</td>\n",
       "      <td>108775044</td>\n",
       "      <td>1</td>\n",
       "      <td>13</td>\n",
       "      <td>203</td>\n",
       "    </tr>\n",
       "    <tr>\n",
       "      <th>3</th>\n",
       "      <td>111565001</td>\n",
       "      <td>108775044</td>\n",
       "      <td>1</td>\n",
       "      <td>153</td>\n",
       "      <td>203</td>\n",
       "    </tr>\n",
       "    <tr>\n",
       "      <th>4</th>\n",
       "      <td>123173001</td>\n",
       "      <td>108775044</td>\n",
       "      <td>1</td>\n",
       "      <td>391</td>\n",
       "      <td>203</td>\n",
       "    </tr>\n",
       "  </tbody>\n",
       "</table>\n",
       "</div>"
      ],
      "text/plain": [
       "   article_id  article_id_1  common_cust  article_id_cus_x  article_id_cus_y\n",
       "0   108775015     108775044           50               338               203\n",
       "1   110065001     108775044            1                24               203\n",
       "2   110065002     108775044            1                13               203\n",
       "3   111565001     108775044            1               153               203\n",
       "4   123173001     108775044            1               391               203"
      ]
     },
     "execution_count": 20,
     "metadata": {},
     "output_type": "execute_result"
    }
   ],
   "source": [
    "common_cust = pd.merge(common_cust,\n",
    "                       article_cust_full.groupby('article_id_1').\\\n",
    "                       agg(article_id_cus=('customer_id','nunique')).\\\n",
    "                       reset_index(),\n",
    "                       left_on = 'article_id_1',\n",
    "                       right_on = 'article_id_1'\n",
    "                      )\n",
    "common_cust.head()"
   ]
  },
  {
   "cell_type": "code",
   "execution_count": 21,
   "id": "5c187a36",
   "metadata": {
    "execution": {
     "iopub.execute_input": "2022-03-21T17:17:36.552401Z",
     "iopub.status.busy": "2022-03-21T17:17:36.551560Z",
     "iopub.status.idle": "2022-03-21T17:17:36.632613Z",
     "shell.execute_reply": "2022-03-21T17:17:36.631921Z",
     "shell.execute_reply.started": "2022-03-21T17:09:21.797086Z"
    },
    "papermill": {
     "duration": 0.153262,
     "end_time": "2022-03-21T17:17:36.632767",
     "exception": false,
     "start_time": "2022-03-21T17:17:36.479505",
     "status": "completed"
    },
    "tags": []
   },
   "outputs": [],
   "source": [
    "common_cust['lift'] = common_cust['common_cust']/ (common_cust['article_id_cus_x']*common_cust['article_id_cus_y'])"
   ]
  },
  {
   "cell_type": "code",
   "execution_count": 22,
   "id": "fea43331",
   "metadata": {
    "execution": {
     "iopub.execute_input": "2022-03-21T17:17:36.783327Z",
     "iopub.status.busy": "2022-03-21T17:17:36.781916Z",
     "iopub.status.idle": "2022-03-21T17:17:37.117026Z",
     "shell.execute_reply": "2022-03-21T17:17:37.117517Z",
     "shell.execute_reply.started": "2022-03-21T17:09:21.906643Z"
    },
    "papermill": {
     "duration": 0.415881,
     "end_time": "2022-03-21T17:17:37.117734",
     "exception": false,
     "start_time": "2022-03-21T17:17:36.701853",
     "status": "completed"
    },
    "tags": []
   },
   "outputs": [],
   "source": [
    "common_cust = common_cust[common_cust['common_cust']>10].sort_values(['article_id_cus_y','lift'], ascending=[False,False])"
   ]
  },
  {
   "cell_type": "code",
   "execution_count": 23,
   "id": "23620c3c",
   "metadata": {
    "execution": {
     "iopub.execute_input": "2022-03-21T17:17:37.259942Z",
     "iopub.status.busy": "2022-03-21T17:17:37.258855Z",
     "iopub.status.idle": "2022-03-21T17:17:37.265687Z",
     "shell.execute_reply": "2022-03-21T17:17:37.266346Z",
     "shell.execute_reply.started": "2022-03-21T17:09:22.390644Z"
    },
    "papermill": {
     "duration": 0.080057,
     "end_time": "2022-03-21T17:17:37.266543",
     "exception": false,
     "start_time": "2022-03-21T17:17:37.186486",
     "status": "completed"
    },
    "tags": []
   },
   "outputs": [
    {
     "data": {
      "text/plain": [
       "2155"
      ]
     },
     "execution_count": 23,
     "metadata": {},
     "output_type": "execute_result"
    }
   ],
   "source": [
    "len(common_cust['article_id'].unique())"
   ]
  },
  {
   "cell_type": "code",
   "execution_count": 24,
   "id": "76ca3120",
   "metadata": {
    "execution": {
     "iopub.execute_input": "2022-03-21T17:17:37.408311Z",
     "iopub.status.busy": "2022-03-21T17:17:37.407149Z",
     "iopub.status.idle": "2022-03-21T17:17:37.536467Z",
     "shell.execute_reply": "2022-03-21T17:17:37.537035Z",
     "shell.execute_reply.started": "2022-03-21T17:09:22.401507Z"
    },
    "papermill": {
     "duration": 0.202859,
     "end_time": "2022-03-21T17:17:37.537268",
     "exception": false,
     "start_time": "2022-03-21T17:17:37.334409",
     "status": "completed"
    },
    "tags": []
   },
   "outputs": [],
   "source": [
    "common_cust = pd.merge(common_cust,\n",
    "         transactions_train_filt.groupby(['article_id']).\\\n",
    "         agg(article_id_max_dat=('t_dat_datetime','max')).\\\n",
    "         reset_index(),\n",
    "         left_on='article_id',\n",
    "         right_on='article_id'\n",
    "        )"
   ]
  },
  {
   "cell_type": "code",
   "execution_count": 25,
   "id": "b801bdb7",
   "metadata": {
    "execution": {
     "iopub.execute_input": "2022-03-21T17:17:37.684128Z",
     "iopub.status.busy": "2022-03-21T17:17:37.683364Z",
     "iopub.status.idle": "2022-03-21T17:17:38.081965Z",
     "shell.execute_reply": "2022-03-21T17:17:38.081325Z",
     "shell.execute_reply.started": "2022-03-21T17:09:22.556496Z"
    },
    "papermill": {
     "duration": 0.474767,
     "end_time": "2022-03-21T17:17:38.082176",
     "exception": false,
     "start_time": "2022-03-21T17:17:37.607409",
     "status": "completed"
    },
    "tags": []
   },
   "outputs": [],
   "source": [
    "common_cust = pd.merge(common_cust,\n",
    "         transactions_train_filt.rename(columns={}).groupby(['article_id']).\\\n",
    "         agg(article_id_1_max_dat=('t_dat_datetime','max')).\\\n",
    "         reset_index(),\n",
    "         left_on='article_id_1',\n",
    "         right_on='article_id'\n",
    "        )"
   ]
  },
  {
   "cell_type": "code",
   "execution_count": 26,
   "id": "377d2ca2",
   "metadata": {
    "execution": {
     "iopub.execute_input": "2022-03-21T17:17:38.229547Z",
     "iopub.status.busy": "2022-03-21T17:17:38.228545Z",
     "iopub.status.idle": "2022-03-21T17:17:38.245040Z",
     "shell.execute_reply": "2022-03-21T17:17:38.245611Z",
     "shell.execute_reply.started": "2022-03-21T17:09:23.020213Z"
    },
    "papermill": {
     "duration": 0.091778,
     "end_time": "2022-03-21T17:17:38.245805",
     "exception": false,
     "start_time": "2022-03-21T17:17:38.154027",
     "status": "completed"
    },
    "tags": []
   },
   "outputs": [
    {
     "data": {
      "text/html": [
       "<div>\n",
       "<style scoped>\n",
       "    .dataframe tbody tr th:only-of-type {\n",
       "        vertical-align: middle;\n",
       "    }\n",
       "\n",
       "    .dataframe tbody tr th {\n",
       "        vertical-align: top;\n",
       "    }\n",
       "\n",
       "    .dataframe thead th {\n",
       "        text-align: right;\n",
       "    }\n",
       "</style>\n",
       "<table border=\"1\" class=\"dataframe\">\n",
       "  <thead>\n",
       "    <tr style=\"text-align: right;\">\n",
       "      <th></th>\n",
       "      <th>article_id_x</th>\n",
       "      <th>article_id_1</th>\n",
       "      <th>common_cust</th>\n",
       "      <th>article_id_cus_x</th>\n",
       "      <th>article_id_cus_y</th>\n",
       "      <th>lift</th>\n",
       "      <th>article_id_max_dat</th>\n",
       "      <th>article_id_1_max_dat</th>\n",
       "    </tr>\n",
       "  </thead>\n",
       "  <tbody>\n",
       "    <tr>\n",
       "      <th>0</th>\n",
       "      <td>673901001</td>\n",
       "      <td>706016001</td>\n",
       "      <td>82</td>\n",
       "      <td>212</td>\n",
       "      <td>5023</td>\n",
       "      <td>0.000077</td>\n",
       "      <td>2020-02-06</td>\n",
       "      <td>2020-09-22</td>\n",
       "    </tr>\n",
       "    <tr>\n",
       "      <th>1</th>\n",
       "      <td>706016019</td>\n",
       "      <td>706016001</td>\n",
       "      <td>106</td>\n",
       "      <td>280</td>\n",
       "      <td>5023</td>\n",
       "      <td>0.000075</td>\n",
       "      <td>2020-09-22</td>\n",
       "      <td>2020-09-22</td>\n",
       "    </tr>\n",
       "    <tr>\n",
       "      <th>2</th>\n",
       "      <td>706016028</td>\n",
       "      <td>706016001</td>\n",
       "      <td>17</td>\n",
       "      <td>46</td>\n",
       "      <td>5023</td>\n",
       "      <td>0.000074</td>\n",
       "      <td>2020-09-22</td>\n",
       "      <td>2020-09-22</td>\n",
       "    </tr>\n",
       "    <tr>\n",
       "      <th>3</th>\n",
       "      <td>706016006</td>\n",
       "      <td>706016001</td>\n",
       "      <td>312</td>\n",
       "      <td>853</td>\n",
       "      <td>5023</td>\n",
       "      <td>0.000073</td>\n",
       "      <td>2020-09-22</td>\n",
       "      <td>2020-09-22</td>\n",
       "    </tr>\n",
       "    <tr>\n",
       "      <th>4</th>\n",
       "      <td>539723001</td>\n",
       "      <td>706016001</td>\n",
       "      <td>153</td>\n",
       "      <td>431</td>\n",
       "      <td>5023</td>\n",
       "      <td>0.000071</td>\n",
       "      <td>2019-09-18</td>\n",
       "      <td>2020-09-22</td>\n",
       "    </tr>\n",
       "  </tbody>\n",
       "</table>\n",
       "</div>"
      ],
      "text/plain": [
       "   article_id_x  article_id_1  common_cust  article_id_cus_x  \\\n",
       "0     673901001     706016001           82               212   \n",
       "1     706016019     706016001          106               280   \n",
       "2     706016028     706016001           17                46   \n",
       "3     706016006     706016001          312               853   \n",
       "4     539723001     706016001          153               431   \n",
       "\n",
       "   article_id_cus_y      lift article_id_max_dat article_id_1_max_dat  \n",
       "0              5023  0.000077         2020-02-06           2020-09-22  \n",
       "1              5023  0.000075         2020-09-22           2020-09-22  \n",
       "2              5023  0.000074         2020-09-22           2020-09-22  \n",
       "3              5023  0.000073         2020-09-22           2020-09-22  \n",
       "4              5023  0.000071         2019-09-18           2020-09-22  "
      ]
     },
     "execution_count": 26,
     "metadata": {},
     "output_type": "execute_result"
    }
   ],
   "source": [
    "common_cust.drop(['article_id_y'], axis = 1, inplace=True)\n",
    "common_cust.head()"
   ]
  },
  {
   "cell_type": "code",
   "execution_count": 27,
   "id": "1f8a354f",
   "metadata": {
    "execution": {
     "iopub.execute_input": "2022-03-21T17:17:38.393020Z",
     "iopub.status.busy": "2022-03-21T17:17:38.391655Z",
     "iopub.status.idle": "2022-03-21T17:17:38.652667Z",
     "shell.execute_reply": "2022-03-21T17:17:38.652075Z",
     "shell.execute_reply.started": "2022-03-21T17:09:23.039921Z"
    },
    "papermill": {
     "duration": 0.337168,
     "end_time": "2022-03-21T17:17:38.652842",
     "exception": false,
     "start_time": "2022-03-21T17:17:38.315674",
     "status": "completed"
    },
    "tags": []
   },
   "outputs": [
    {
     "data": {
      "text/plain": [
       "140303"
      ]
     },
     "execution_count": 27,
     "metadata": {},
     "output_type": "execute_result"
    }
   ],
   "source": [
    "len(transactions_train_filt[(transactions_train_filt['t_month'].isin([8,9,10]))&\n",
    "                            (transactions_train_filt['t_year']!=2020)\n",
    "                            \n",
    "                           ]['customer_id'].unique())"
   ]
  },
  {
   "cell_type": "code",
   "execution_count": 28,
   "id": "31933a5e",
   "metadata": {
    "execution": {
     "iopub.execute_input": "2022-03-21T17:17:38.802310Z",
     "iopub.status.busy": "2022-03-21T17:17:38.801441Z",
     "iopub.status.idle": "2022-03-21T17:17:46.316514Z",
     "shell.execute_reply": "2022-03-21T17:17:46.317172Z",
     "shell.execute_reply.started": "2022-03-21T17:10:40.943811Z"
    },
    "papermill": {
     "duration": 7.59471,
     "end_time": "2022-03-21T17:17:46.317384",
     "exception": false,
     "start_time": "2022-03-21T17:17:38.722674",
     "status": "completed"
    },
    "tags": []
   },
   "outputs": [],
   "source": [
    "product_purchase_cycle = pd.merge(transactions_train_filt[['customer_id','article_id','t_dat_datetime']],\n",
    "                                  articles[['article_id','product_type_no']],\n",
    "                                  left_on='article_id',\n",
    "                                  right_on='article_id'\n",
    "                                 ).\\\n",
    "sort_values(['customer_id','article_id','t_dat_datetime']).drop_duplicates()"
   ]
  },
  {
   "cell_type": "code",
   "execution_count": 29,
   "id": "3a680c2e",
   "metadata": {
    "execution": {
     "iopub.execute_input": "2022-03-21T17:17:46.461219Z",
     "iopub.status.busy": "2022-03-21T17:17:46.460420Z",
     "iopub.status.idle": "2022-03-21T17:17:48.262686Z",
     "shell.execute_reply": "2022-03-21T17:17:48.263402Z",
     "shell.execute_reply.started": "2022-03-21T17:10:48.795945Z"
    },
    "papermill": {
     "duration": 1.876067,
     "end_time": "2022-03-21T17:17:48.263617",
     "exception": false,
     "start_time": "2022-03-21T17:17:46.387550",
     "status": "completed"
    },
    "tags": []
   },
   "outputs": [],
   "source": [
    "product_purchase_cycle['t_dat_datetime_lag'] = product_purchase_cycle.\\\n",
    "groupby(['customer_id','article_id'])['t_dat_datetime'].shift(1)"
   ]
  },
  {
   "cell_type": "code",
   "execution_count": 30,
   "id": "f7228170",
   "metadata": {
    "execution": {
     "iopub.execute_input": "2022-03-21T17:17:48.417920Z",
     "iopub.status.busy": "2022-03-21T17:17:48.417036Z",
     "iopub.status.idle": "2022-03-21T17:17:48.465393Z",
     "shell.execute_reply": "2022-03-21T17:17:48.464727Z",
     "shell.execute_reply.started": "2022-03-21T17:10:50.630019Z"
    },
    "papermill": {
     "duration": 0.128707,
     "end_time": "2022-03-21T17:17:48.465558",
     "exception": false,
     "start_time": "2022-03-21T17:17:48.336851",
     "status": "completed"
    },
    "tags": []
   },
   "outputs": [],
   "source": [
    "product_purchase_cycle['purchase_cycle'] = product_purchase_cycle['t_dat_datetime'] - product_purchase_cycle['t_dat_datetime_lag']"
   ]
  },
  {
   "cell_type": "code",
   "execution_count": 31,
   "id": "3657cddb",
   "metadata": {
    "execution": {
     "iopub.execute_input": "2022-03-21T17:17:48.611562Z",
     "iopub.status.busy": "2022-03-21T17:17:48.610840Z",
     "iopub.status.idle": "2022-03-21T17:17:50.633946Z",
     "shell.execute_reply": "2022-03-21T17:17:50.633281Z",
     "shell.execute_reply.started": "2022-03-21T17:11:07.888957Z"
    },
    "papermill": {
     "duration": 2.09921,
     "end_time": "2022-03-21T17:17:50.634132",
     "exception": false,
     "start_time": "2022-03-21T17:17:48.534922",
     "status": "completed"
    },
    "tags": []
   },
   "outputs": [],
   "source": [
    "Average_Purchase_Cycle = product_purchase_cycle[~(product_purchase_cycle['purchase_cycle'].isnull())].\\\n",
    "groupby(['customer_id','article_id']).agg({\"purchase_cycle\":\"median\"}).reset_index()"
   ]
  },
  {
   "cell_type": "code",
   "execution_count": 32,
   "id": "642ce4df",
   "metadata": {
    "execution": {
     "iopub.execute_input": "2022-03-21T17:17:50.779281Z",
     "iopub.status.busy": "2022-03-21T17:17:50.778517Z",
     "iopub.status.idle": "2022-03-21T17:17:56.464494Z",
     "shell.execute_reply": "2022-03-21T17:17:56.463556Z",
     "shell.execute_reply.started": "2022-03-21T17:11:36.757627Z"
    },
    "papermill": {
     "duration": 5.761414,
     "end_time": "2022-03-21T17:17:56.464669",
     "exception": false,
     "start_time": "2022-03-21T17:17:50.703255",
     "status": "completed"
    },
    "tags": []
   },
   "outputs": [],
   "source": [
    "transactions_train_filt = pd.merge(pd.merge(transactions_train_filt,\n",
    "                                  articles[['article_id','product_type_no']],\n",
    "                                  left_on='article_id',\n",
    "                                  right_on='article_id'\n",
    "                                 ),\n",
    "                                   Average_Purchase_Cycle,\n",
    "                                   left_on = ['customer_id','article_id'],\n",
    "                                   right_on = ['customer_id','article_id'],\n",
    "                                   how='inner'\n",
    "                                  )"
   ]
  },
  {
   "cell_type": "code",
   "execution_count": 33,
   "id": "c3cc502b",
   "metadata": {
    "execution": {
     "iopub.execute_input": "2022-03-21T17:17:56.953335Z",
     "iopub.status.busy": "2022-03-21T17:17:56.952536Z",
     "iopub.status.idle": "2022-03-21T17:18:00.213653Z",
     "shell.execute_reply": "2022-03-21T17:18:00.212748Z",
     "shell.execute_reply.started": "2022-03-21T17:11:50.926667Z"
    },
    "papermill": {
     "duration": 3.678723,
     "end_time": "2022-03-21T17:18:00.213848",
     "exception": false,
     "start_time": "2022-03-21T17:17:56.535125",
     "status": "completed"
    },
    "tags": []
   },
   "outputs": [],
   "source": [
    "transactions_train_filt['product_last_purchase_date'] = transactions_train_filt.\\\n",
    "groupby(['customer_id','article_id'])['t_dat_datetime'].transform(\"max\")"
   ]
  },
  {
   "cell_type": "code",
   "execution_count": 34,
   "id": "ad16863f",
   "metadata": {
    "execution": {
     "iopub.execute_input": "2022-03-21T17:18:00.375157Z",
     "iopub.status.busy": "2022-03-21T17:18:00.374300Z",
     "iopub.status.idle": "2022-03-21T17:18:00.377242Z",
     "shell.execute_reply": "2022-03-21T17:18:00.376534Z",
     "shell.execute_reply.started": "2022-03-20T06:54:57.884762Z"
    },
    "papermill": {
     "duration": 0.086644,
     "end_time": "2022-03-21T17:18:00.377405",
     "exception": false,
     "start_time": "2022-03-21T17:18:00.290761",
     "status": "completed"
    },
    "tags": []
   },
   "outputs": [],
   "source": [
    "from datetime import datetime\n",
    "from datetime import timedelta"
   ]
  },
  {
   "cell_type": "code",
   "execution_count": 35,
   "id": "e547b777",
   "metadata": {
    "execution": {
     "iopub.execute_input": "2022-03-21T17:18:00.533470Z",
     "iopub.status.busy": "2022-03-21T17:18:00.530148Z",
     "iopub.status.idle": "2022-03-21T17:18:52.606466Z",
     "shell.execute_reply": "2022-03-21T17:18:52.605580Z",
     "shell.execute_reply.started": "2022-03-20T06:55:02.13019Z"
    },
    "papermill": {
     "duration": 52.156795,
     "end_time": "2022-03-21T17:18:52.606662",
     "exception": false,
     "start_time": "2022-03-21T17:18:00.449867",
     "status": "completed"
    },
    "tags": []
   },
   "outputs": [],
   "source": [
    "transactions_train_filt['purchase_cycle_days'] = transactions_train_filt['purchase_cycle'].astype('str').str.split(' ', expand=True)[0]"
   ]
  },
  {
   "cell_type": "code",
   "execution_count": 36,
   "id": "1330ffc6",
   "metadata": {
    "execution": {
     "iopub.execute_input": "2022-03-21T17:18:53.193281Z",
     "iopub.status.busy": "2022-03-21T17:18:53.190947Z",
     "iopub.status.idle": "2022-03-21T17:19:04.721706Z",
     "shell.execute_reply": "2022-03-21T17:19:04.721082Z",
     "shell.execute_reply.started": "2022-03-20T06:10:28.690961Z"
    },
    "papermill": {
     "duration": 12.043356,
     "end_time": "2022-03-21T17:19:04.721904",
     "exception": false,
     "start_time": "2022-03-21T17:18:52.678548",
     "status": "completed"
    },
    "tags": []
   },
   "outputs": [],
   "source": [
    "transactions_train_filt['next_purchase_date'] = transactions_train_filt['product_last_purchase_date'] + transactions_train_filt['purchase_cycle_days'].astype(int).map(timedelta)"
   ]
  },
  {
   "cell_type": "code",
   "execution_count": 37,
   "id": "0518ed36",
   "metadata": {
    "execution": {
     "iopub.execute_input": "2022-03-21T17:19:04.868532Z",
     "iopub.status.busy": "2022-03-21T17:19:04.867688Z",
     "iopub.status.idle": "2022-03-21T17:19:04.891182Z",
     "shell.execute_reply": "2022-03-21T17:19:04.891780Z",
     "shell.execute_reply.started": "2022-03-20T06:10:40.016689Z"
    },
    "papermill": {
     "duration": 0.100523,
     "end_time": "2022-03-21T17:19:04.892011",
     "exception": false,
     "start_time": "2022-03-21T17:19:04.791488",
     "status": "completed"
    },
    "tags": []
   },
   "outputs": [],
   "source": [
    "start_date = transactions_train_filt['t_dat_datetime'].max() + timedelta(-90)\n",
    "end_date = transactions_train_filt['t_dat_datetime'].max() + timedelta(90)"
   ]
  },
  {
   "cell_type": "code",
   "execution_count": 38,
   "id": "801bced6",
   "metadata": {
    "execution": {
     "iopub.execute_input": "2022-03-21T17:19:05.044846Z",
     "iopub.status.busy": "2022-03-21T17:19:05.044035Z",
     "iopub.status.idle": "2022-03-21T17:19:05.057800Z",
     "shell.execute_reply": "2022-03-21T17:19:05.058487Z",
     "shell.execute_reply.started": "2022-03-20T06:10:40.046142Z"
    },
    "papermill": {
     "duration": 0.09558,
     "end_time": "2022-03-21T17:19:05.058698",
     "exception": false,
     "start_time": "2022-03-21T17:19:04.963118",
     "status": "completed"
    },
    "tags": []
   },
   "outputs": [
    {
     "data": {
      "text/plain": [
       "datetime.date(2020, 9, 22)"
      ]
     },
     "execution_count": 38,
     "metadata": {},
     "output_type": "execute_result"
    }
   ],
   "source": [
    "datetime.date(transactions_train_filt['t_dat_datetime'].max()) "
   ]
  },
  {
   "cell_type": "code",
   "execution_count": 39,
   "id": "c19839d8",
   "metadata": {
    "execution": {
     "iopub.execute_input": "2022-03-21T17:19:05.210099Z",
     "iopub.status.busy": "2022-03-21T17:19:05.209281Z",
     "iopub.status.idle": "2022-03-21T17:19:05.213368Z",
     "shell.execute_reply": "2022-03-21T17:19:05.212710Z",
     "shell.execute_reply.started": "2022-03-20T06:10:40.064952Z"
    },
    "papermill": {
     "duration": 0.08215,
     "end_time": "2022-03-21T17:19:05.213531",
     "exception": false,
     "start_time": "2022-03-21T17:19:05.131381",
     "status": "completed"
    },
    "tags": []
   },
   "outputs": [
    {
     "data": {
      "text/plain": [
       "(Timestamp('2020-06-24 00:00:00'), Timestamp('2020-12-21 00:00:00'))"
      ]
     },
     "execution_count": 39,
     "metadata": {},
     "output_type": "execute_result"
    }
   ],
   "source": [
    "start_date, end_date"
   ]
  },
  {
   "cell_type": "code",
   "execution_count": 40,
   "id": "0dfa673b",
   "metadata": {
    "execution": {
     "iopub.execute_input": "2022-03-21T17:19:05.687495Z",
     "iopub.status.busy": "2022-03-21T17:19:05.686688Z",
     "iopub.status.idle": "2022-03-21T17:19:06.954333Z",
     "shell.execute_reply": "2022-03-21T17:19:06.953234Z",
     "shell.execute_reply.started": "2022-03-20T06:10:40.072832Z"
    },
    "papermill": {
     "duration": 1.670817,
     "end_time": "2022-03-21T17:19:06.954578",
     "exception": false,
     "start_time": "2022-03-21T17:19:05.283761",
     "status": "completed"
    },
    "tags": []
   },
   "outputs": [
    {
     "data": {
      "text/plain": [
       "377478"
      ]
     },
     "execution_count": 40,
     "metadata": {},
     "output_type": "execute_result"
    }
   ],
   "source": [
    "len(transactions_train_filt['customer_id'].unique())"
   ]
  },
  {
   "cell_type": "code",
   "execution_count": 41,
   "id": "a60f2572",
   "metadata": {
    "execution": {
     "iopub.execute_input": "2022-03-21T17:19:07.101591Z",
     "iopub.status.busy": "2022-03-21T17:19:07.100701Z",
     "iopub.status.idle": "2022-03-21T17:19:08.456705Z",
     "shell.execute_reply": "2022-03-21T17:19:08.455991Z",
     "shell.execute_reply.started": "2022-03-20T06:10:41.372127Z"
    },
    "papermill": {
     "duration": 1.429836,
     "end_time": "2022-03-21T17:19:08.456868",
     "exception": false,
     "start_time": "2022-03-21T17:19:07.027032",
     "status": "completed"
    },
    "tags": []
   },
   "outputs": [],
   "source": [
    "customer_next_purchase = transactions_train_filt[transactions_train_filt['next_purchase_date'].\\\n",
    "                        between(start_date, end_date, inclusive=\"both\")]\\\n",
    "[['customer_id','t_dat','article_id']].drop_duplicates()"
   ]
  },
  {
   "cell_type": "code",
   "execution_count": 42,
   "id": "67e169f2",
   "metadata": {
    "execution": {
     "iopub.execute_input": "2022-03-21T17:19:08.658433Z",
     "iopub.status.busy": "2022-03-21T17:19:08.657637Z",
     "iopub.status.idle": "2022-03-21T17:19:09.208735Z",
     "shell.execute_reply": "2022-03-21T17:19:09.208071Z",
     "shell.execute_reply.started": "2022-03-20T06:10:42.716017Z"
    },
    "papermill": {
     "duration": 0.680593,
     "end_time": "2022-03-21T17:19:09.208925",
     "exception": false,
     "start_time": "2022-03-21T17:19:08.528332",
     "status": "completed"
    },
    "tags": []
   },
   "outputs": [],
   "source": [
    "customer_next_purchase['repeat_purchase'] = customer_next_purchase.groupby(['customer_id'])['article_id'].transform('count')"
   ]
  },
  {
   "cell_type": "code",
   "execution_count": 43,
   "id": "05f7a9c6",
   "metadata": {
    "execution": {
     "iopub.execute_input": "2022-03-21T17:19:09.365505Z",
     "iopub.status.busy": "2022-03-21T17:19:09.364727Z",
     "iopub.status.idle": "2022-03-21T17:19:10.057456Z",
     "shell.execute_reply": "2022-03-21T17:19:10.056262Z",
     "shell.execute_reply.started": "2022-03-20T06:10:43.266536Z"
    },
    "papermill": {
     "duration": 0.774921,
     "end_time": "2022-03-21T17:19:10.057698",
     "exception": false,
     "start_time": "2022-03-21T17:19:09.282777",
     "status": "completed"
    },
    "tags": []
   },
   "outputs": [],
   "source": [
    "customer_next_purchase['product_imp_rank'] = customer_next_purchase.groupby(['customer_id'])['repeat_purchase'].rank(method=\"first\",ascending=True)"
   ]
  },
  {
   "cell_type": "code",
   "execution_count": 44,
   "id": "01b8e477",
   "metadata": {
    "execution": {
     "iopub.execute_input": "2022-03-21T17:19:10.231846Z",
     "iopub.status.busy": "2022-03-21T17:19:10.229132Z",
     "iopub.status.idle": "2022-03-21T17:19:10.908701Z",
     "shell.execute_reply": "2022-03-21T17:19:10.909275Z",
     "shell.execute_reply.started": "2022-03-20T06:11:05.953608Z"
    },
    "papermill": {
     "duration": 0.762025,
     "end_time": "2022-03-21T17:19:10.909525",
     "exception": false,
     "start_time": "2022-03-21T17:19:10.147500",
     "status": "completed"
    },
    "tags": []
   },
   "outputs": [],
   "source": [
    "customer_next_purchase['max_rank'] = customer_next_purchase[customer_next_purchase['product_imp_rank'] <= 12].\\\n",
    "groupby('customer_id')['product_imp_rank'].transform('max')"
   ]
  },
  {
   "cell_type": "code",
   "execution_count": 45,
   "id": "d6208436",
   "metadata": {
    "execution": {
     "iopub.execute_input": "2022-03-21T17:19:11.061025Z",
     "iopub.status.busy": "2022-03-21T17:19:11.059893Z",
     "iopub.status.idle": "2022-03-21T17:19:11.884134Z",
     "shell.execute_reply": "2022-03-21T17:19:11.883431Z",
     "shell.execute_reply.started": "2022-03-20T06:11:10.554324Z"
    },
    "papermill": {
     "duration": 0.901715,
     "end_time": "2022-03-21T17:19:11.884315",
     "exception": false,
     "start_time": "2022-03-21T17:19:10.982600",
     "status": "completed"
    },
    "tags": []
   },
   "outputs": [],
   "source": [
    "customer_next_purchase = customer_next_purchase[['customer_id','article_id','max_rank']]\n",
    "\n",
    "customer_next_purchase = customer_next_purchase.sort_values(['customer_id','article_id'])"
   ]
  },
  {
   "cell_type": "code",
   "execution_count": 46,
   "id": "54658056",
   "metadata": {
    "execution": {
     "iopub.execute_input": "2022-03-21T17:19:12.037015Z",
     "iopub.status.busy": "2022-03-21T17:19:12.036117Z",
     "iopub.status.idle": "2022-03-21T17:19:12.224015Z",
     "shell.execute_reply": "2022-03-21T17:19:12.224604Z",
     "shell.execute_reply.started": "2022-03-20T06:18:59.861183Z"
    },
    "papermill": {
     "duration": 0.266846,
     "end_time": "2022-03-21T17:19:12.224825",
     "exception": false,
     "start_time": "2022-03-21T17:19:11.957979",
     "status": "completed"
    },
    "tags": []
   },
   "outputs": [
    {
     "data": {
      "text/plain": [
       "117328"
      ]
     },
     "execution_count": 46,
     "metadata": {},
     "output_type": "execute_result"
    }
   ],
   "source": [
    "len(customer_next_purchase['customer_id'].unique())"
   ]
  },
  {
   "cell_type": "code",
   "execution_count": 47,
   "id": "80e81e38",
   "metadata": {
    "execution": {
     "iopub.execute_input": "2022-03-21T17:19:12.375858Z",
     "iopub.status.busy": "2022-03-21T17:19:12.375130Z",
     "iopub.status.idle": "2022-03-21T17:19:12.388027Z",
     "shell.execute_reply": "2022-03-21T17:19:12.388553Z",
     "shell.execute_reply.started": "2022-03-20T06:24:57.447806Z"
    },
    "papermill": {
     "duration": 0.092269,
     "end_time": "2022-03-21T17:19:12.388773",
     "exception": false,
     "start_time": "2022-03-21T17:19:12.296504",
     "status": "completed"
    },
    "tags": []
   },
   "outputs": [],
   "source": [
    "common_cust['left_rank'] = common_cust[common_cust.article_id_1_max_dat.dt.year==2020].\\\n",
    "groupby(['article_id_x'])['lift'].rank(method='first', ascending=False)"
   ]
  },
  {
   "cell_type": "code",
   "execution_count": 48,
   "id": "d53b5d7b",
   "metadata": {
    "execution": {
     "iopub.execute_input": "2022-03-21T17:19:12.547073Z",
     "iopub.status.busy": "2022-03-21T17:19:12.546263Z",
     "iopub.status.idle": "2022-03-21T17:19:12.568695Z",
     "shell.execute_reply": "2022-03-21T17:19:12.569257Z",
     "shell.execute_reply.started": "2022-03-20T06:24:58.388201Z"
    },
    "papermill": {
     "duration": 0.103138,
     "end_time": "2022-03-21T17:19:12.569467",
     "exception": false,
     "start_time": "2022-03-21T17:19:12.466329",
     "status": "completed"
    },
    "tags": []
   },
   "outputs": [
    {
     "data": {
      "text/html": [
       "<div>\n",
       "<style scoped>\n",
       "    .dataframe tbody tr th:only-of-type {\n",
       "        vertical-align: middle;\n",
       "    }\n",
       "\n",
       "    .dataframe tbody tr th {\n",
       "        vertical-align: top;\n",
       "    }\n",
       "\n",
       "    .dataframe thead th {\n",
       "        text-align: right;\n",
       "    }\n",
       "</style>\n",
       "<table border=\"1\" class=\"dataframe\">\n",
       "  <thead>\n",
       "    <tr style=\"text-align: right;\">\n",
       "      <th></th>\n",
       "      <th>article_id_x</th>\n",
       "      <th>article_id_1</th>\n",
       "      <th>common_cust</th>\n",
       "      <th>article_id_cus_x</th>\n",
       "      <th>article_id_cus_y</th>\n",
       "      <th>lift</th>\n",
       "      <th>article_id_max_dat</th>\n",
       "      <th>article_id_1_max_dat</th>\n",
       "      <th>left_rank</th>\n",
       "    </tr>\n",
       "  </thead>\n",
       "  <tbody>\n",
       "    <tr>\n",
       "      <th>6024</th>\n",
       "      <td>936622001</td>\n",
       "      <td>935892001</td>\n",
       "      <td>19</td>\n",
       "      <td>26</td>\n",
       "      <td>38</td>\n",
       "      <td>0.019231</td>\n",
       "      <td>2020-09-22</td>\n",
       "      <td>2020-09-22</td>\n",
       "      <td>1.0</td>\n",
       "    </tr>\n",
       "    <tr>\n",
       "      <th>6159</th>\n",
       "      <td>935892001</td>\n",
       "      <td>936622001</td>\n",
       "      <td>19</td>\n",
       "      <td>38</td>\n",
       "      <td>26</td>\n",
       "      <td>0.019231</td>\n",
       "      <td>2020-09-22</td>\n",
       "      <td>2020-09-22</td>\n",
       "      <td>1.0</td>\n",
       "    </tr>\n",
       "    <tr>\n",
       "      <th>5781</th>\n",
       "      <td>919248002</td>\n",
       "      <td>866383008</td>\n",
       "      <td>13</td>\n",
       "      <td>47</td>\n",
       "      <td>59</td>\n",
       "      <td>0.004688</td>\n",
       "      <td>2020-09-09</td>\n",
       "      <td>2020-09-06</td>\n",
       "      <td>1.0</td>\n",
       "    </tr>\n",
       "    <tr>\n",
       "      <th>5204</th>\n",
       "      <td>918836001</td>\n",
       "      <td>918835001</td>\n",
       "      <td>17</td>\n",
       "      <td>78</td>\n",
       "      <td>36</td>\n",
       "      <td>0.006054</td>\n",
       "      <td>2020-09-21</td>\n",
       "      <td>2020-09-22</td>\n",
       "      <td>1.0</td>\n",
       "    </tr>\n",
       "    <tr>\n",
       "      <th>5202</th>\n",
       "      <td>918836001</td>\n",
       "      <td>896169002</td>\n",
       "      <td>43</td>\n",
       "      <td>78</td>\n",
       "      <td>116</td>\n",
       "      <td>0.004752</td>\n",
       "      <td>2020-09-21</td>\n",
       "      <td>2020-09-21</td>\n",
       "      <td>2.0</td>\n",
       "    </tr>\n",
       "    <tr>\n",
       "      <th>...</th>\n",
       "      <td>...</td>\n",
       "      <td>...</td>\n",
       "      <td>...</td>\n",
       "      <td>...</td>\n",
       "      <td>...</td>\n",
       "      <td>...</td>\n",
       "      <td>...</td>\n",
       "      <td>...</td>\n",
       "      <td>...</td>\n",
       "    </tr>\n",
       "    <tr>\n",
       "      <th>1942</th>\n",
       "      <td>108775015</td>\n",
       "      <td>767834001</td>\n",
       "      <td>15</td>\n",
       "      <td>338</td>\n",
       "      <td>278</td>\n",
       "      <td>0.000160</td>\n",
       "      <td>2020-04-10</td>\n",
       "      <td>2020-09-04</td>\n",
       "      <td>2.0</td>\n",
       "    </tr>\n",
       "    <tr>\n",
       "      <th>4216</th>\n",
       "      <td>108775015</td>\n",
       "      <td>538699001</td>\n",
       "      <td>13</td>\n",
       "      <td>338</td>\n",
       "      <td>297</td>\n",
       "      <td>0.000130</td>\n",
       "      <td>2020-04-10</td>\n",
       "      <td>2020-02-14</td>\n",
       "      <td>3.0</td>\n",
       "    </tr>\n",
       "    <tr>\n",
       "      <th>3110</th>\n",
       "      <td>108775015</td>\n",
       "      <td>565379001</td>\n",
       "      <td>12</td>\n",
       "      <td>338</td>\n",
       "      <td>432</td>\n",
       "      <td>0.000082</td>\n",
       "      <td>2020-04-10</td>\n",
       "      <td>2020-05-22</td>\n",
       "      <td>4.0</td>\n",
       "    </tr>\n",
       "    <tr>\n",
       "      <th>1469</th>\n",
       "      <td>108775015</td>\n",
       "      <td>160442007</td>\n",
       "      <td>21</td>\n",
       "      <td>338</td>\n",
       "      <td>1807</td>\n",
       "      <td>0.000034</td>\n",
       "      <td>2020-04-10</td>\n",
       "      <td>2020-09-22</td>\n",
       "      <td>5.0</td>\n",
       "    </tr>\n",
       "    <tr>\n",
       "      <th>663</th>\n",
       "      <td>108775015</td>\n",
       "      <td>372860001</td>\n",
       "      <td>13</td>\n",
       "      <td>338</td>\n",
       "      <td>2173</td>\n",
       "      <td>0.000018</td>\n",
       "      <td>2020-04-10</td>\n",
       "      <td>2020-09-22</td>\n",
       "      <td>6.0</td>\n",
       "    </tr>\n",
       "  </tbody>\n",
       "</table>\n",
       "<p>6218 rows × 9 columns</p>\n",
       "</div>"
      ],
      "text/plain": [
       "      article_id_x  article_id_1  common_cust  article_id_cus_x  \\\n",
       "6024     936622001     935892001           19                26   \n",
       "6159     935892001     936622001           19                38   \n",
       "5781     919248002     866383008           13                47   \n",
       "5204     918836001     918835001           17                78   \n",
       "5202     918836001     896169002           43                78   \n",
       "...            ...           ...          ...               ...   \n",
       "1942     108775015     767834001           15               338   \n",
       "4216     108775015     538699001           13               338   \n",
       "3110     108775015     565379001           12               338   \n",
       "1469     108775015     160442007           21               338   \n",
       "663      108775015     372860001           13               338   \n",
       "\n",
       "      article_id_cus_y      lift article_id_max_dat article_id_1_max_dat  \\\n",
       "6024                38  0.019231         2020-09-22           2020-09-22   \n",
       "6159                26  0.019231         2020-09-22           2020-09-22   \n",
       "5781                59  0.004688         2020-09-09           2020-09-06   \n",
       "5204                36  0.006054         2020-09-21           2020-09-22   \n",
       "5202               116  0.004752         2020-09-21           2020-09-21   \n",
       "...                ...       ...                ...                  ...   \n",
       "1942               278  0.000160         2020-04-10           2020-09-04   \n",
       "4216               297  0.000130         2020-04-10           2020-02-14   \n",
       "3110               432  0.000082         2020-04-10           2020-05-22   \n",
       "1469              1807  0.000034         2020-04-10           2020-09-22   \n",
       "663               2173  0.000018         2020-04-10           2020-09-22   \n",
       "\n",
       "      left_rank  \n",
       "6024        1.0  \n",
       "6159        1.0  \n",
       "5781        1.0  \n",
       "5204        1.0  \n",
       "5202        2.0  \n",
       "...         ...  \n",
       "1942        2.0  \n",
       "4216        3.0  \n",
       "3110        4.0  \n",
       "1469        5.0  \n",
       "663         6.0  \n",
       "\n",
       "[6218 rows x 9 columns]"
      ]
     },
     "execution_count": 48,
     "metadata": {},
     "output_type": "execute_result"
    }
   ],
   "source": [
    "common_cust.sort_values(['article_id_x','lift'], ascending=[False,False])"
   ]
  },
  {
   "cell_type": "code",
   "execution_count": 49,
   "id": "19b2faba",
   "metadata": {
    "execution": {
     "iopub.execute_input": "2022-03-21T17:19:12.737061Z",
     "iopub.status.busy": "2022-03-21T17:19:12.736278Z",
     "iopub.status.idle": "2022-03-21T17:19:12.745277Z",
     "shell.execute_reply": "2022-03-21T17:19:12.745974Z",
     "shell.execute_reply.started": "2022-03-20T06:19:06.669431Z"
    },
    "papermill": {
     "duration": 0.102294,
     "end_time": "2022-03-21T17:19:12.746197",
     "exception": false,
     "start_time": "2022-03-21T17:19:12.643903",
     "status": "completed"
    },
    "tags": []
   },
   "outputs": [
    {
     "data": {
      "text/html": [
       "<div>\n",
       "<style scoped>\n",
       "    .dataframe tbody tr th:only-of-type {\n",
       "        vertical-align: middle;\n",
       "    }\n",
       "\n",
       "    .dataframe tbody tr th {\n",
       "        vertical-align: top;\n",
       "    }\n",
       "\n",
       "    .dataframe thead th {\n",
       "        text-align: right;\n",
       "    }\n",
       "</style>\n",
       "<table border=\"1\" class=\"dataframe\">\n",
       "  <thead>\n",
       "    <tr style=\"text-align: right;\">\n",
       "      <th></th>\n",
       "      <th>customer_id</th>\n",
       "      <th>article_id</th>\n",
       "      <th>max_rank</th>\n",
       "    </tr>\n",
       "  </thead>\n",
       "  <tbody>\n",
       "    <tr>\n",
       "      <th>358825</th>\n",
       "      <td>0000423b00ade91418cceaf3b26c6af3dd342b51fd051e...</td>\n",
       "      <td>351484002</td>\n",
       "      <td>6.0</td>\n",
       "    </tr>\n",
       "    <tr>\n",
       "      <th>358826</th>\n",
       "      <td>0000423b00ade91418cceaf3b26c6af3dd342b51fd051e...</td>\n",
       "      <td>351484002</td>\n",
       "      <td>6.0</td>\n",
       "    </tr>\n",
       "    <tr>\n",
       "      <th>358827</th>\n",
       "      <td>0000423b00ade91418cceaf3b26c6af3dd342b51fd051e...</td>\n",
       "      <td>351484002</td>\n",
       "      <td>6.0</td>\n",
       "    </tr>\n",
       "    <tr>\n",
       "      <th>1112905</th>\n",
       "      <td>0000423b00ade91418cceaf3b26c6af3dd342b51fd051e...</td>\n",
       "      <td>723529001</td>\n",
       "      <td>6.0</td>\n",
       "    </tr>\n",
       "    <tr>\n",
       "      <th>1112906</th>\n",
       "      <td>0000423b00ade91418cceaf3b26c6af3dd342b51fd051e...</td>\n",
       "      <td>723529001</td>\n",
       "      <td>6.0</td>\n",
       "    </tr>\n",
       "  </tbody>\n",
       "</table>\n",
       "</div>"
      ],
      "text/plain": [
       "                                               customer_id  article_id  \\\n",
       "358825   0000423b00ade91418cceaf3b26c6af3dd342b51fd051e...   351484002   \n",
       "358826   0000423b00ade91418cceaf3b26c6af3dd342b51fd051e...   351484002   \n",
       "358827   0000423b00ade91418cceaf3b26c6af3dd342b51fd051e...   351484002   \n",
       "1112905  0000423b00ade91418cceaf3b26c6af3dd342b51fd051e...   723529001   \n",
       "1112906  0000423b00ade91418cceaf3b26c6af3dd342b51fd051e...   723529001   \n",
       "\n",
       "         max_rank  \n",
       "358825        6.0  \n",
       "358826        6.0  \n",
       "358827        6.0  \n",
       "1112905       6.0  \n",
       "1112906       6.0  "
      ]
     },
     "execution_count": 49,
     "metadata": {},
     "output_type": "execute_result"
    }
   ],
   "source": [
    "customer_next_purchase.head()"
   ]
  },
  {
   "cell_type": "code",
   "execution_count": 50,
   "id": "47e937cb",
   "metadata": {
    "execution": {
     "iopub.execute_input": "2022-03-21T17:19:12.899728Z",
     "iopub.status.busy": "2022-03-21T17:19:12.897319Z",
     "iopub.status.idle": "2022-03-21T17:19:13.169603Z",
     "shell.execute_reply": "2022-03-21T17:19:13.170263Z",
     "shell.execute_reply.started": "2022-03-20T02:50:54.595871Z"
    },
    "papermill": {
     "duration": 0.351971,
     "end_time": "2022-03-21T17:19:13.170495",
     "exception": false,
     "start_time": "2022-03-21T17:19:12.818524",
     "status": "completed"
    },
    "tags": []
   },
   "outputs": [],
   "source": [
    "# Filling Products \n",
    "\n",
    "top_12_products = customer_next_purchase.groupby(['article_id']).agg(cust_count=('customer_id','nunique')).reset_index()\n",
    "\n",
    "top_12_products = top_12_products.sort_values('cust_count', ascending = False).head(12)[['article_id']]"
   ]
  },
  {
   "cell_type": "code",
   "execution_count": null,
   "id": "fd608826",
   "metadata": {
    "execution": {
     "iopub.execute_input": "2022-03-20T02:51:07.778596Z",
     "iopub.status.busy": "2022-03-20T02:51:07.778281Z",
     "iopub.status.idle": "2022-03-20T02:51:08.044141Z",
     "shell.execute_reply": "2022-03-20T02:51:08.042693Z",
     "shell.execute_reply.started": "2022-03-20T02:51:07.778569Z"
    },
    "papermill": {
     "duration": 0.071836,
     "end_time": "2022-03-21T17:19:13.315802",
     "exception": false,
     "start_time": "2022-03-21T17:19:13.243966",
     "status": "completed"
    },
    "tags": []
   },
   "outputs": [],
   "source": []
  },
  {
   "cell_type": "code",
   "execution_count": 51,
   "id": "48de849d",
   "metadata": {
    "execution": {
     "iopub.execute_input": "2022-03-21T17:19:13.469490Z",
     "iopub.status.busy": "2022-03-21T17:19:13.468727Z",
     "iopub.status.idle": "2022-03-21T17:19:13.770129Z",
     "shell.execute_reply": "2022-03-21T17:19:13.770846Z",
     "shell.execute_reply.started": "2022-03-20T02:51:10.119593Z"
    },
    "papermill": {
     "duration": 0.380228,
     "end_time": "2022-03-21T17:19:13.771136",
     "exception": false,
     "start_time": "2022-03-21T17:19:13.390908",
     "status": "completed"
    },
    "tags": []
   },
   "outputs": [],
   "source": [
    "filler_cust_prod_comb= pd.merge(customer_next_purchase['customer_id'].drop_duplicates(), \n",
    "top_12_products['article_id'], how = 'cross')"
   ]
  },
  {
   "cell_type": "code",
   "execution_count": 52,
   "id": "02c18b84",
   "metadata": {
    "execution": {
     "iopub.execute_input": "2022-03-21T17:19:13.929480Z",
     "iopub.status.busy": "2022-03-21T17:19:13.928693Z",
     "iopub.status.idle": "2022-03-21T17:19:14.761140Z",
     "shell.execute_reply": "2022-03-21T17:19:14.760379Z",
     "shell.execute_reply.started": "2022-03-20T02:51:12.042132Z"
    },
    "papermill": {
     "duration": 0.910136,
     "end_time": "2022-03-21T17:19:14.761339",
     "exception": false,
     "start_time": "2022-03-21T17:19:13.851203",
     "status": "completed"
    },
    "tags": []
   },
   "outputs": [],
   "source": [
    "customer_next_purchase= pd.concat([customer_next_purchase[['customer_id', 'article_id']],\n",
    "          filler_cust_prod_comb[['customer_id', 'article_id']]],\n",
    "          axis = 0\n",
    "         ).drop_duplicates()"
   ]
  },
  {
   "cell_type": "code",
   "execution_count": 53,
   "id": "a47236b4",
   "metadata": {
    "execution": {
     "iopub.execute_input": "2022-03-21T17:19:14.916439Z",
     "iopub.status.busy": "2022-03-21T17:19:14.915689Z",
     "iopub.status.idle": "2022-03-21T17:19:15.579063Z",
     "shell.execute_reply": "2022-03-21T17:19:15.578402Z",
     "shell.execute_reply.started": "2022-03-20T02:51:15.954101Z"
    },
    "papermill": {
     "duration": 0.744262,
     "end_time": "2022-03-21T17:19:15.579227",
     "exception": false,
     "start_time": "2022-03-21T17:19:14.834965",
     "status": "completed"
    },
    "tags": []
   },
   "outputs": [],
   "source": [
    "customer_next_purchase['row_num'] = customer_next_purchase.groupby(['customer_id']).cumcount()"
   ]
  },
  {
   "cell_type": "code",
   "execution_count": 54,
   "id": "9ae7fa7c",
   "metadata": {
    "execution": {
     "iopub.execute_input": "2022-03-21T17:19:15.749845Z",
     "iopub.status.busy": "2022-03-21T17:19:15.748826Z",
     "iopub.status.idle": "2022-03-21T17:19:15.850256Z",
     "shell.execute_reply": "2022-03-21T17:19:15.850768Z",
     "shell.execute_reply.started": "2022-03-20T02:52:39.965842Z"
    },
    "papermill": {
     "duration": 0.186438,
     "end_time": "2022-03-21T17:19:15.851002",
     "exception": false,
     "start_time": "2022-03-21T17:19:15.664564",
     "status": "completed"
    },
    "tags": []
   },
   "outputs": [],
   "source": [
    "customer_next_purchase = customer_next_purchase[customer_next_purchase['row_num'] <= 11]"
   ]
  },
  {
   "cell_type": "code",
   "execution_count": 55,
   "id": "f89752f5",
   "metadata": {
    "execution": {
     "iopub.execute_input": "2022-03-21T17:19:16.006105Z",
     "iopub.status.busy": "2022-03-21T17:19:16.005327Z",
     "iopub.status.idle": "2022-03-21T17:19:17.826941Z",
     "shell.execute_reply": "2022-03-21T17:19:17.826295Z",
     "shell.execute_reply.started": "2022-03-20T02:53:23.234434Z"
    },
    "papermill": {
     "duration": 1.903431,
     "end_time": "2022-03-21T17:19:17.827139",
     "exception": false,
     "start_time": "2022-03-21T17:19:15.923708",
     "status": "completed"
    },
    "tags": []
   },
   "outputs": [],
   "source": [
    "customer_next_purchase['article_id'] = ' 0'+customer_next_purchase['article_id'].astype('str')"
   ]
  },
  {
   "cell_type": "code",
   "execution_count": 56,
   "id": "9155f9df",
   "metadata": {
    "execution": {
     "iopub.execute_input": "2022-03-21T17:19:17.981303Z",
     "iopub.status.busy": "2022-03-21T17:19:17.980425Z",
     "iopub.status.idle": "2022-03-21T17:19:18.888740Z",
     "shell.execute_reply": "2022-03-21T17:19:18.888120Z",
     "shell.execute_reply.started": "2022-03-20T02:57:01.05193Z"
    },
    "papermill": {
     "duration": 0.989135,
     "end_time": "2022-03-21T17:19:18.888925",
     "exception": false,
     "start_time": "2022-03-21T17:19:17.899790",
     "status": "completed"
    },
    "tags": []
   },
   "outputs": [],
   "source": [
    "customer_next_purchase = customer_next_purchase.groupby(['customer_id'])['article_id'].sum().reset_index()"
   ]
  },
  {
   "cell_type": "code",
   "execution_count": 57,
   "id": "0c0c9730",
   "metadata": {
    "execution": {
     "iopub.execute_input": "2022-03-21T17:19:19.056788Z",
     "iopub.status.busy": "2022-03-21T17:19:19.056084Z",
     "iopub.status.idle": "2022-03-21T17:19:19.059084Z",
     "shell.execute_reply": "2022-03-21T17:19:19.058535Z",
     "shell.execute_reply.started": "2022-03-20T02:55:26.313912Z"
    },
    "papermill": {
     "duration": 0.096675,
     "end_time": "2022-03-21T17:19:19.059266",
     "exception": false,
     "start_time": "2022-03-21T17:19:18.962591",
     "status": "completed"
    },
    "tags": []
   },
   "outputs": [],
   "source": [
    "top_12_products['article_id'] = ' 0'+top_12_products['article_id'].astype('str')"
   ]
  },
  {
   "cell_type": "code",
   "execution_count": 58,
   "id": "810e62a1",
   "metadata": {
    "execution": {
     "iopub.execute_input": "2022-03-21T17:19:19.211365Z",
     "iopub.status.busy": "2022-03-21T17:19:19.210563Z",
     "iopub.status.idle": "2022-03-21T17:19:19.215211Z",
     "shell.execute_reply": "2022-03-21T17:19:19.214524Z",
     "shell.execute_reply.started": "2022-03-20T02:56:00.744399Z"
    },
    "papermill": {
     "duration": 0.083303,
     "end_time": "2022-03-21T17:19:19.215384",
     "exception": false,
     "start_time": "2022-03-21T17:19:19.132081",
     "status": "completed"
    },
    "tags": []
   },
   "outputs": [
    {
     "data": {
      "text/plain": [
       "' 0706016001 0706016002 0372860001 0464297007 0160442007 0751471001 0399223001 0372860002 0156231001 0608776002 0448509014 0610776002'"
      ]
     },
     "execution_count": 58,
     "metadata": {},
     "output_type": "execute_result"
    }
   ],
   "source": [
    "top_12_products_for_missin_cust = top_12_products['article_id'].sum()\n",
    "top_12_products_for_missin_cust"
   ]
  },
  {
   "cell_type": "code",
   "execution_count": 59,
   "id": "761a4cce",
   "metadata": {
    "execution": {
     "iopub.execute_input": "2022-03-21T17:19:19.365232Z",
     "iopub.status.busy": "2022-03-21T17:19:19.364436Z",
     "iopub.status.idle": "2022-03-21T17:19:20.751029Z",
     "shell.execute_reply": "2022-03-21T17:19:20.750374Z",
     "shell.execute_reply.started": "2022-03-20T03:09:31.436645Z"
    },
    "papermill": {
     "duration": 1.462829,
     "end_time": "2022-03-21T17:19:20.751208",
     "exception": false,
     "start_time": "2022-03-21T17:19:19.288379",
     "status": "completed"
    },
    "tags": []
   },
   "outputs": [],
   "source": [
    "sample_submission = pd.merge(sample_submission,\n",
    "                             customer_next_purchase,\n",
    "                             left_on = ['customer_id'],\n",
    "                             right_on = ['customer_id'],\n",
    "                             how = 'left'\n",
    "                            ).fillna(top_12_products_for_missin_cust)"
   ]
  },
  {
   "cell_type": "code",
   "execution_count": 60,
   "id": "d58b7667",
   "metadata": {
    "execution": {
     "iopub.execute_input": "2022-03-21T17:19:20.905035Z",
     "iopub.status.busy": "2022-03-21T17:19:20.904127Z",
     "iopub.status.idle": "2022-03-21T17:19:20.906971Z",
     "shell.execute_reply": "2022-03-21T17:19:20.907551Z",
     "shell.execute_reply.started": "2022-03-17T07:10:04.360443Z"
    },
    "papermill": {
     "duration": 0.082356,
     "end_time": "2022-03-21T17:19:20.907771",
     "exception": false,
     "start_time": "2022-03-21T17:19:20.825415",
     "status": "completed"
    },
    "tags": []
   },
   "outputs": [],
   "source": [
    "# no_products_cust['article_id'].fillna( \"0706016001 0706016002 0372860001 0399223001 0464297007 0160442007 0610776002 0156231001 0399256001 0372860002 0706016003 0759871002\", inplace=True)\n",
    "# no_products_cust.shape"
   ]
  },
  {
   "cell_type": "code",
   "execution_count": 61,
   "id": "09b0436d",
   "metadata": {
    "execution": {
     "iopub.execute_input": "2022-03-21T17:19:21.058820Z",
     "iopub.status.busy": "2022-03-21T17:19:21.058044Z",
     "iopub.status.idle": "2022-03-21T17:19:21.068335Z",
     "shell.execute_reply": "2022-03-21T17:19:21.068815Z",
     "shell.execute_reply.started": "2022-03-20T03:09:36.523657Z"
    },
    "papermill": {
     "duration": 0.088081,
     "end_time": "2022-03-21T17:19:21.069039",
     "exception": false,
     "start_time": "2022-03-21T17:19:20.980958",
     "status": "completed"
    },
    "tags": []
   },
   "outputs": [
    {
     "data": {
      "text/html": [
       "<div>\n",
       "<style scoped>\n",
       "    .dataframe tbody tr th:only-of-type {\n",
       "        vertical-align: middle;\n",
       "    }\n",
       "\n",
       "    .dataframe tbody tr th {\n",
       "        vertical-align: top;\n",
       "    }\n",
       "\n",
       "    .dataframe thead th {\n",
       "        text-align: right;\n",
       "    }\n",
       "</style>\n",
       "<table border=\"1\" class=\"dataframe\">\n",
       "  <thead>\n",
       "    <tr style=\"text-align: right;\">\n",
       "      <th></th>\n",
       "      <th>customer_id</th>\n",
       "      <th>prediction</th>\n",
       "    </tr>\n",
       "  </thead>\n",
       "  <tbody>\n",
       "    <tr>\n",
       "      <th>0</th>\n",
       "      <td>00000dbacae5abe5e23885899a1fa44253a17956c6d1c3...</td>\n",
       "      <td>0706016001 0706016002 0372860001 0464297007 0...</td>\n",
       "    </tr>\n",
       "    <tr>\n",
       "      <th>1</th>\n",
       "      <td>0000423b00ade91418cceaf3b26c6af3dd342b51fd051e...</td>\n",
       "      <td>0351484002 0723529001 0706016001 0706016002 0...</td>\n",
       "    </tr>\n",
       "    <tr>\n",
       "      <th>2</th>\n",
       "      <td>000058a12d5b43e67d225668fa1f8d618c13dc232df0ca...</td>\n",
       "      <td>0706016001 0706016002 0372860001 0464297007 0...</td>\n",
       "    </tr>\n",
       "    <tr>\n",
       "      <th>3</th>\n",
       "      <td>00005ca1c9ed5f5146b52ac8639a40ca9d57aeff4d1bd2...</td>\n",
       "      <td>0706016001 0706016002 0372860001 0464297007 0...</td>\n",
       "    </tr>\n",
       "    <tr>\n",
       "      <th>4</th>\n",
       "      <td>00006413d8573cd20ed7128e53b7b13819fe5cfc2d801f...</td>\n",
       "      <td>0706016001 0706016002 0372860001 0464297007 0...</td>\n",
       "    </tr>\n",
       "  </tbody>\n",
       "</table>\n",
       "</div>"
      ],
      "text/plain": [
       "                                         customer_id  \\\n",
       "0  00000dbacae5abe5e23885899a1fa44253a17956c6d1c3...   \n",
       "1  0000423b00ade91418cceaf3b26c6af3dd342b51fd051e...   \n",
       "2  000058a12d5b43e67d225668fa1f8d618c13dc232df0ca...   \n",
       "3  00005ca1c9ed5f5146b52ac8639a40ca9d57aeff4d1bd2...   \n",
       "4  00006413d8573cd20ed7128e53b7b13819fe5cfc2d801f...   \n",
       "\n",
       "                                          prediction  \n",
       "0   0706016001 0706016002 0372860001 0464297007 0...  \n",
       "1   0351484002 0723529001 0706016001 0706016002 0...  \n",
       "2   0706016001 0706016002 0372860001 0464297007 0...  \n",
       "3   0706016001 0706016002 0372860001 0464297007 0...  \n",
       "4   0706016001 0706016002 0372860001 0464297007 0...  "
      ]
     },
     "execution_count": 61,
     "metadata": {},
     "output_type": "execute_result"
    }
   ],
   "source": [
    "sample_submission.rename(columns={'article_id':'prediction'}, inplace=True)\n",
    "sample_submission.head()"
   ]
  },
  {
   "cell_type": "code",
   "execution_count": 62,
   "id": "72a16eb7",
   "metadata": {
    "execution": {
     "iopub.execute_input": "2022-03-21T17:19:21.221060Z",
     "iopub.status.busy": "2022-03-21T17:19:21.220369Z",
     "iopub.status.idle": "2022-03-21T17:19:34.074496Z",
     "shell.execute_reply": "2022-03-21T17:19:34.073573Z",
     "shell.execute_reply.started": "2022-03-20T03:09:40.507322Z"
    },
    "papermill": {
     "duration": 12.932389,
     "end_time": "2022-03-21T17:19:34.074711",
     "exception": false,
     "start_time": "2022-03-21T17:19:21.142322",
     "status": "completed"
    },
    "tags": []
   },
   "outputs": [],
   "source": [
    "sample_submission.to_csv('submission.csv', index =False)"
   ]
  },
  {
   "cell_type": "code",
   "execution_count": null,
   "id": "c4f4c18f",
   "metadata": {
    "papermill": {
     "duration": 0.073502,
     "end_time": "2022-03-21T17:19:34.221970",
     "exception": false,
     "start_time": "2022-03-21T17:19:34.148468",
     "status": "completed"
    },
    "tags": []
   },
   "outputs": [],
   "source": []
  }
 ],
 "metadata": {
  "kernelspec": {
   "display_name": "Python 3",
   "language": "python",
   "name": "python3"
  },
  "language_info": {
   "codemirror_mode": {
    "name": "ipython",
    "version": 3
   },
   "file_extension": ".py",
   "mimetype": "text/x-python",
   "name": "python",
   "nbconvert_exporter": "python",
   "pygments_lexer": "ipython3",
   "version": "3.7.12"
  },
  "papermill": {
   "default_parameters": {},
   "duration": 427.489718,
   "end_time": "2022-03-21T17:19:36.617024",
   "environment_variables": {},
   "exception": null,
   "input_path": "__notebook__.ipynb",
   "output_path": "__notebook__.ipynb",
   "parameters": {},
   "start_time": "2022-03-21T17:12:29.127306",
   "version": "2.3.3"
  }
 },
 "nbformat": 4,
 "nbformat_minor": 5
}
