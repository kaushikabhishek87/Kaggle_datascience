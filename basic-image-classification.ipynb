{
 "cells": [
  {
   "cell_type": "code",
   "execution_count": 1,
   "id": "18876c8b",
   "metadata": {
    "_cell_guid": "b1076dfc-b9ad-4769-8c92-a6c4dae69d19",
    "_uuid": "8f2839f25d086af736a60e9eeb907d3b93b6e0e5",
    "execution": {
     "iopub.execute_input": "2022-02-23T16:54:47.768226Z",
     "iopub.status.busy": "2022-02-23T16:54:47.767558Z",
     "iopub.status.idle": "2022-02-23T16:54:53.009657Z",
     "shell.execute_reply": "2022-02-23T16:54:53.010227Z",
     "shell.execute_reply.started": "2022-02-23T16:30:16.355022Z"
    },
    "papermill": {
     "duration": 5.271123,
     "end_time": "2022-02-23T16:54:53.010543",
     "exception": false,
     "start_time": "2022-02-23T16:54:47.739420",
     "status": "completed"
    },
    "tags": []
   },
   "outputs": [
    {
     "name": "stdout",
     "output_type": "stream",
     "text": [
      "2.6.2\n"
     ]
    }
   ],
   "source": [
    "import tensorflow as tf\n",
    "import numpy as np\n",
    "import matplotlib.pyplot as plt\n",
    "\n",
    "print(tf.__version__)"
   ]
  },
  {
   "cell_type": "code",
   "execution_count": 2,
   "id": "f1ad17cb",
   "metadata": {
    "execution": {
     "iopub.execute_input": "2022-02-23T16:54:53.052049Z",
     "iopub.status.busy": "2022-02-23T16:54:53.051401Z",
     "iopub.status.idle": "2022-02-23T16:54:55.644464Z",
     "shell.execute_reply": "2022-02-23T16:54:55.643818Z",
     "shell.execute_reply.started": "2022-02-23T16:34:20.526539Z"
    },
    "papermill": {
     "duration": 2.614868,
     "end_time": "2022-02-23T16:54:55.644621",
     "exception": false,
     "start_time": "2022-02-23T16:54:53.029753",
     "status": "completed"
    },
    "tags": []
   },
   "outputs": [
    {
     "name": "stdout",
     "output_type": "stream",
     "text": [
      "Downloading data from https://storage.googleapis.com/tensorflow/tf-keras-datasets/train-labels-idx1-ubyte.gz\n",
      "32768/29515 [=================================] - 0s 0us/step\n",
      "40960/29515 [=========================================] - 0s 0us/step\n",
      "Downloading data from https://storage.googleapis.com/tensorflow/tf-keras-datasets/train-images-idx3-ubyte.gz\n",
      "26427392/26421880 [==============================] - 0s 0us/step\n",
      "26435584/26421880 [==============================] - 0s 0us/step\n",
      "Downloading data from https://storage.googleapis.com/tensorflow/tf-keras-datasets/t10k-labels-idx1-ubyte.gz\n",
      "16384/5148 [===============================================================================================] - 0s 0us/step\n",
      "Downloading data from https://storage.googleapis.com/tensorflow/tf-keras-datasets/t10k-images-idx3-ubyte.gz\n",
      "4423680/4422102 [==============================] - 0s 0us/step\n",
      "4431872/4422102 [==============================] - 0s 0us/step\n"
     ]
    }
   ],
   "source": [
    "fashion_mnist = tf.keras.datasets.fashion_mnist\n",
    "\n",
    "(train_images, train_labels), (test_images, test_labels) = fashion_mnist.load_data()"
   ]
  },
  {
   "cell_type": "code",
   "execution_count": 3,
   "id": "5f8f81df",
   "metadata": {
    "execution": {
     "iopub.execute_input": "2022-02-23T16:54:55.703317Z",
     "iopub.status.busy": "2022-02-23T16:54:55.702627Z",
     "iopub.status.idle": "2022-02-23T16:54:55.706986Z",
     "shell.execute_reply": "2022-02-23T16:54:55.706438Z",
     "shell.execute_reply.started": "2022-02-23T16:35:00.238128Z"
    },
    "papermill": {
     "duration": 0.03753,
     "end_time": "2022-02-23T16:54:55.707143",
     "exception": false,
     "start_time": "2022-02-23T16:54:55.669613",
     "status": "completed"
    },
    "tags": []
   },
   "outputs": [
    {
     "data": {
      "text/plain": [
       "(array([9, 0, 0, ..., 3, 0, 5], dtype=uint8),\n",
       " array([9, 2, 1, ..., 8, 1, 5], dtype=uint8))"
      ]
     },
     "execution_count": 3,
     "metadata": {},
     "output_type": "execute_result"
    }
   ],
   "source": [
    "train_labels, test_labels"
   ]
  },
  {
   "cell_type": "code",
   "execution_count": 4,
   "id": "99f68bdb",
   "metadata": {
    "execution": {
     "iopub.execute_input": "2022-02-23T16:54:55.761598Z",
     "iopub.status.busy": "2022-02-23T16:54:55.760937Z",
     "iopub.status.idle": "2022-02-23T16:54:55.763424Z",
     "shell.execute_reply": "2022-02-23T16:54:55.763909Z",
     "shell.execute_reply.started": "2022-02-23T16:35:32.435149Z"
    },
    "papermill": {
     "duration": 0.031566,
     "end_time": "2022-02-23T16:54:55.764075",
     "exception": false,
     "start_time": "2022-02-23T16:54:55.732509",
     "status": "completed"
    },
    "tags": []
   },
   "outputs": [],
   "source": [
    "class_name = ['T-shirt/top', 'Trouser', 'Pullover', 'Dress', 'Coat',\n",
    "               'Sandal', 'Shirt', 'Sneaker', 'Bag', 'Ankle boot']"
   ]
  },
  {
   "cell_type": "code",
   "execution_count": 5,
   "id": "82d73967",
   "metadata": {
    "execution": {
     "iopub.execute_input": "2022-02-23T16:54:55.820198Z",
     "iopub.status.busy": "2022-02-23T16:54:55.819456Z",
     "iopub.status.idle": "2022-02-23T16:54:55.823391Z",
     "shell.execute_reply": "2022-02-23T16:54:55.822858Z",
     "shell.execute_reply.started": "2022-02-23T16:36:01.039180Z"
    },
    "papermill": {
     "duration": 0.033947,
     "end_time": "2022-02-23T16:54:55.823538",
     "exception": false,
     "start_time": "2022-02-23T16:54:55.789591",
     "status": "completed"
    },
    "tags": []
   },
   "outputs": [
    {
     "data": {
      "text/plain": [
       "(60000, 28, 28)"
      ]
     },
     "execution_count": 5,
     "metadata": {},
     "output_type": "execute_result"
    }
   ],
   "source": [
    "train_images.shape"
   ]
  },
  {
   "cell_type": "code",
   "execution_count": 6,
   "id": "8b032442",
   "metadata": {
    "execution": {
     "iopub.execute_input": "2022-02-23T16:54:55.881002Z",
     "iopub.status.busy": "2022-02-23T16:54:55.880337Z",
     "iopub.status.idle": "2022-02-23T16:54:55.883262Z",
     "shell.execute_reply": "2022-02-23T16:54:55.883709Z",
     "shell.execute_reply.started": "2022-02-23T16:36:12.193369Z"
    },
    "papermill": {
     "duration": 0.034743,
     "end_time": "2022-02-23T16:54:55.883877",
     "exception": false,
     "start_time": "2022-02-23T16:54:55.849134",
     "status": "completed"
    },
    "tags": []
   },
   "outputs": [
    {
     "data": {
      "text/plain": [
       "60000"
      ]
     },
     "execution_count": 6,
     "metadata": {},
     "output_type": "execute_result"
    }
   ],
   "source": [
    "len(train_images)"
   ]
  },
  {
   "cell_type": "code",
   "execution_count": 7,
   "id": "9865e389",
   "metadata": {
    "execution": {
     "iopub.execute_input": "2022-02-23T16:54:55.939335Z",
     "iopub.status.busy": "2022-02-23T16:54:55.938659Z",
     "iopub.status.idle": "2022-02-23T16:54:55.942795Z",
     "shell.execute_reply": "2022-02-23T16:54:55.942198Z",
     "shell.execute_reply.started": "2022-02-23T16:36:46.541164Z"
    },
    "papermill": {
     "duration": 0.034083,
     "end_time": "2022-02-23T16:54:55.942936",
     "exception": false,
     "start_time": "2022-02-23T16:54:55.908853",
     "status": "completed"
    },
    "tags": []
   },
   "outputs": [
    {
     "data": {
      "text/plain": [
       "(10000, 28, 28)"
      ]
     },
     "execution_count": 7,
     "metadata": {},
     "output_type": "execute_result"
    }
   ],
   "source": [
    "test_images.shape"
   ]
  },
  {
   "cell_type": "code",
   "execution_count": 8,
   "id": "b7372fa7",
   "metadata": {
    "execution": {
     "iopub.execute_input": "2022-02-23T16:54:55.999962Z",
     "iopub.status.busy": "2022-02-23T16:54:55.999267Z",
     "iopub.status.idle": "2022-02-23T16:54:56.003173Z",
     "shell.execute_reply": "2022-02-23T16:54:56.002344Z",
     "shell.execute_reply.started": "2022-02-23T16:36:53.510827Z"
    },
    "papermill": {
     "duration": 0.0338,
     "end_time": "2022-02-23T16:54:56.003334",
     "exception": false,
     "start_time": "2022-02-23T16:54:55.969534",
     "status": "completed"
    },
    "tags": []
   },
   "outputs": [
    {
     "data": {
      "text/plain": [
       "10000"
      ]
     },
     "execution_count": 8,
     "metadata": {},
     "output_type": "execute_result"
    }
   ],
   "source": [
    "len(test_images)"
   ]
  },
  {
   "cell_type": "code",
   "execution_count": 9,
   "id": "0c93fde7",
   "metadata": {
    "execution": {
     "iopub.execute_input": "2022-02-23T16:54:56.066998Z",
     "iopub.status.busy": "2022-02-23T16:54:56.066323Z",
     "iopub.status.idle": "2022-02-23T16:54:56.292245Z",
     "shell.execute_reply": "2022-02-23T16:54:56.291645Z",
     "shell.execute_reply.started": "2022-02-23T16:37:55.628379Z"
    },
    "papermill": {
     "duration": 0.261895,
     "end_time": "2022-02-23T16:54:56.292399",
     "exception": false,
     "start_time": "2022-02-23T16:54:56.030504",
     "status": "completed"
    },
    "tags": []
   },
   "outputs": [
    {
     "data": {
      "image/png": "[encoded data removed]",
      "text/plain": [
       "<Figure size 432x288 with 2 Axes>"
      ]
     },
     "metadata": {
      "needs_background": "light"
     },
     "output_type": "display_data"
    }
   ],
   "source": [
    "plt.figure()\n",
    "plt.imshow(train_images[0])\n",
    "plt.colorbar()\n",
    "# plt.grid(False)\n",
    "plt.show()"
   ]
  },
  {
   "cell_type": "code",
   "execution_count": 10,
   "id": "6c470853",
   "metadata": {
    "execution": {
     "iopub.execute_input": "2022-02-23T16:54:56.351599Z",
     "iopub.status.busy": "2022-02-23T16:54:56.350910Z",
     "iopub.status.idle": "2022-02-23T16:54:56.546866Z",
     "shell.execute_reply": "2022-02-23T16:54:56.546269Z",
     "shell.execute_reply.started": "2022-02-23T16:38:41.409702Z"
    },
    "papermill": {
     "duration": 0.226705,
     "end_time": "2022-02-23T16:54:56.547010",
     "exception": false,
     "start_time": "2022-02-23T16:54:56.320305",
     "status": "completed"
    },
    "tags": []
   },
   "outputs": [],
   "source": [
    "train_images = train_images / 255.0\n",
    "test_images = test_images / 255.0"
   ]
  },
  {
   "cell_type": "code",
   "execution_count": 11,
   "id": "39692e73",
   "metadata": {
    "execution": {
     "iopub.execute_input": "2022-02-23T16:54:56.614027Z",
     "iopub.status.busy": "2022-02-23T16:54:56.612963Z",
     "iopub.status.idle": "2022-02-23T16:54:58.090183Z",
     "shell.execute_reply": "2022-02-23T16:54:58.090945Z",
     "shell.execute_reply.started": "2022-02-23T16:45:02.600405Z"
    },
    "papermill": {
     "duration": 1.515745,
     "end_time": "2022-02-23T16:54:58.091211",
     "exception": false,
     "start_time": "2022-02-23T16:54:56.575466",
     "status": "completed"
    },
    "tags": []
   },
   "outputs": [
    {
     "data": {
      "image/png": "[encoded data removed]",
      "text/plain": [
       "<Figure size 720x720 with 25 Axes>"
      ]
     },
     "metadata": {
      "needs_background": "light"
     },
     "output_type": "display_data"
    }
   ],
   "source": [
    "plt.figure(figsize=(10,10))\n",
    "for i in range(25):\n",
    "    plt.subplot(5,5,i+1)\n",
    "    plt.xticks([])\n",
    "    plt.imshow(train_images[i])\n",
    "    plt.xlabel(class_name[train_labels[i]])\n",
    "plt.show()"
   ]
  },
  {
   "cell_type": "code",
   "execution_count": 12,
   "id": "abb126d6",
   "metadata": {
    "execution": {
     "iopub.execute_input": "2022-02-23T16:54:58.159682Z",
     "iopub.status.busy": "2022-02-23T16:54:58.158944Z",
     "iopub.status.idle": "2022-02-23T16:54:58.276808Z",
     "shell.execute_reply": "2022-02-23T16:54:58.277589Z",
     "shell.execute_reply.started": "2022-02-23T16:47:22.978565Z"
    },
    "papermill": {
     "duration": 0.152952,
     "end_time": "2022-02-23T16:54:58.277820",
     "exception": false,
     "start_time": "2022-02-23T16:54:58.124868",
     "status": "completed"
    },
    "tags": []
   },
   "outputs": [
    {
     "name": "stderr",
     "output_type": "stream",
     "text": [
      "2022-02-23 16:54:58.201128: I tensorflow/core/common_runtime/process_util.cc:146] Creating new thread pool with default inter op setting: 2. Tune using inter_op_parallelism_threads for best performance.\n"
     ]
    }
   ],
   "source": [
    "model = tf.keras.Sequential([\n",
    "    tf.keras.layers.Flatten(input_shape=(28,28)),\n",
    "    tf.keras.layers.Dense(128, activation = 'relu'),\n",
    "    tf.keras.layers.Dense(10)\n",
    "])"
   ]
  },
  {
   "cell_type": "code",
   "execution_count": 13,
   "id": "c848640f",
   "metadata": {
    "execution": {
     "iopub.execute_input": "2022-02-23T16:54:58.341864Z",
     "iopub.status.busy": "2022-02-23T16:54:58.341226Z",
     "iopub.status.idle": "2022-02-23T16:54:58.354456Z",
     "shell.execute_reply": "2022-02-23T16:54:58.354984Z",
     "shell.execute_reply.started": "2022-02-23T16:50:22.814117Z"
    },
    "papermill": {
     "duration": 0.046011,
     "end_time": "2022-02-23T16:54:58.355173",
     "exception": false,
     "start_time": "2022-02-23T16:54:58.309162",
     "status": "completed"
    },
    "tags": []
   },
   "outputs": [],
   "source": [
    "model.compile(optimizer='Adam',\n",
    "             loss=tf.keras.losses.SparseCategoricalCrossentropy(from_logits=True),\n",
    "             metrics=['accuracy'])"
   ]
  },
  {
   "cell_type": "code",
   "execution_count": 14,
   "id": "23f402ef",
   "metadata": {
    "execution": {
     "iopub.execute_input": "2022-02-23T16:54:58.416878Z",
     "iopub.status.busy": "2022-02-23T16:54:58.416223Z",
     "iopub.status.idle": "2022-02-23T16:56:21.537855Z",
     "shell.execute_reply": "2022-02-23T16:56:21.538388Z",
     "shell.execute_reply.started": "2022-02-23T16:51:46.306450Z"
    },
    "papermill": {
     "duration": 83.154074,
     "end_time": "2022-02-23T16:56:21.538567",
     "exception": false,
     "start_time": "2022-02-23T16:54:58.384493",
     "status": "completed"
    },
    "tags": []
   },
   "outputs": [
    {
     "name": "stderr",
     "output_type": "stream",
     "text": [
      "2022-02-23 16:54:58.793895: I tensorflow/compiler/mlir/mlir_graph_optimization_pass.cc:185] None of the MLIR Optimization Passes are enabled (registered 2)\n"
     ]
    },
    {
     "name": "stdout",
     "output_type": "stream",
     "text": [
      "Epoch 1/10\n",
      "1875/1875 [==============================] - 5s 2ms/step - loss: 0.5069 - accuracy: 0.8209\n",
      "Epoch 2/10\n",
      "1875/1875 [==============================] - 4s 2ms/step - loss: 0.3777 - accuracy: 0.8630\n",
      "Epoch 3/10\n",
      "1875/1875 [==============================] - 4s 2ms/step - loss: 0.3387 - accuracy: 0.8772\n",
      "Epoch 4/10\n",
      "1875/1875 [==============================] - 4s 2ms/step - loss: 0.3126 - accuracy: 0.8849\n",
      "Epoch 5/10\n",
      "1875/1875 [==============================] - 4s 2ms/step - loss: 0.2957 - accuracy: 0.8920\n",
      "Epoch 6/10\n",
      "1875/1875 [==============================] - 5s 3ms/step - loss: 0.2800 - accuracy: 0.8971\n",
      "Epoch 7/10\n",
      "1875/1875 [==============================] - 4s 2ms/step - loss: 0.2688 - accuracy: 0.9009\n",
      "Epoch 8/10\n",
      "1875/1875 [==============================] - 4s 2ms/step - loss: 0.2571 - accuracy: 0.9037\n",
      "Epoch 9/10\n",
      "1875/1875 [==============================] - 4s 2ms/step - loss: 0.2481 - accuracy: 0.9072\n",
      "Epoch 10/10\n",
      "1875/1875 [==============================] - 4s 2ms/step - loss: 0.2387 - accuracy: 0.9116\n"
     ]
    },
    {
     "data": {
      "text/plain": [
       "<keras.callbacks.History at 0x7fc4f53b0ad0>"
      ]
     },
     "execution_count": 14,
     "metadata": {},
     "output_type": "execute_result"
    }
   ],
   "source": [
    "model.fit(train_images, train_labels, epochs = 10)"
   ]
  },
  {
   "cell_type": "code",
   "execution_count": 15,
   "id": "89a42158",
   "metadata": {
    "execution": {
     "iopub.execute_input": "2022-02-23T16:56:22.215556Z",
     "iopub.status.busy": "2022-02-23T16:56:22.212157Z",
     "iopub.status.idle": "2022-02-23T16:56:23.070065Z",
     "shell.execute_reply": "2022-02-23T16:56:23.069507Z",
     "shell.execute_reply.started": "2022-02-23T16:53:34.054809Z"
    },
    "papermill": {
     "duration": 1.199271,
     "end_time": "2022-02-23T16:56:23.070304",
     "exception": false,
     "start_time": "2022-02-23T16:56:21.871033",
     "status": "completed"
    },
    "tags": []
   },
   "outputs": [
    {
     "name": "stdout",
     "output_type": "stream",
     "text": [
      "313/313 - 1s - loss: 0.3254 - accuracy: 0.8897\n"
     ]
    }
   ],
   "source": [
    "test_loss, test_acc = model.evaluate(test_images, test_labels, verbose = 2)"
   ]
  },
  {
   "cell_type": "code",
   "execution_count": 16,
   "id": "075cadc1",
   "metadata": {
    "execution": {
     "iopub.execute_input": "2022-02-23T16:56:23.746454Z",
     "iopub.status.busy": "2022-02-23T16:56:23.745722Z",
     "iopub.status.idle": "2022-02-23T16:56:23.748964Z",
     "shell.execute_reply": "2022-02-23T16:56:23.749561Z",
     "shell.execute_reply.started": "2022-02-23T16:53:57.556015Z"
    },
    "papermill": {
     "duration": 0.340319,
     "end_time": "2022-02-23T16:56:23.749738",
     "exception": false,
     "start_time": "2022-02-23T16:56:23.409419",
     "status": "completed"
    },
    "tags": []
   },
   "outputs": [
    {
     "name": "stdout",
     "output_type": "stream",
     "text": [
      "\n",
      " Test Accuracy: 0.8896999955177307\n"
     ]
    }
   ],
   "source": [
    "print('\\n Test Accuracy:', test_acc)"
   ]
  },
  {
   "cell_type": "code",
   "execution_count": null,
   "id": "5bd2ca12",
   "metadata": {
    "papermill": {
     "duration": 0.333298,
     "end_time": "2022-02-23T16:56:24.417501",
     "exception": false,
     "start_time": "2022-02-23T16:56:24.084203",
     "status": "completed"
    },
    "tags": []
   },
   "outputs": [],
   "source": []
  }
 ],
 "metadata": {
  "kernelspec": {
   "display_name": "Python 3",
   "language": "python",
   "name": "python3"
  },
  "language_info": {
   "codemirror_mode": {
    "name": "ipython",
    "version": 3
   },
   "file_extension": ".py",
   "mimetype": "text/x-python",
   "name": "python",
   "nbconvert_exporter": "python",
   "pygments_lexer": "ipython3",
   "version": "3.7.12"
  },
  "papermill": {
   "default_parameters": {},
   "duration": 109.777184,
   "end_time": "2022-02-23T16:56:27.399818",
   "environment_variables": {},
   "exception": null,
   "input_path": "__notebook__.ipynb",
   "output_path": "__notebook__.ipynb",
   "parameters": {},
   "start_time": "2022-02-23T16:54:37.622634",
   "version": "2.3.3"
  }
 },
 "nbformat": 4,
 "nbformat_minor": 5
}
